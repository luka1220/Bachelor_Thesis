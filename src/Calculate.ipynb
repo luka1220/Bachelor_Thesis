{
 "cells": [
  {
   "cell_type": "code",
   "execution_count": 1,
   "metadata": {},
   "outputs": [],
   "source": [
    "from knowledge_graph import build_nx_graph, goldstandard_Graph, get_DiGraph_from_file, get_AC1_Graph_from_file, read_concepts_from_file, ac1_Graph\n",
    "from sparql_queries import query_paths_to_entity, query_freq_wikidata, query_freq_dbpedia\n",
    "from preprocessing import get_cscw19_gold_ideas_in_format\n",
    "from connection import convert_dbp_wikid_ids, wikidata_sparql_request\n",
    "from visualize import get_graphic_G, color_map\n",
    "from analytics import get_subgraph_from, get_subgraph_from_dac,remove_backward_edges, all_shortest_paths_and_LCS, map_key_pos"
   ]
  },
  {
   "cell_type": "code",
   "execution_count": 2,
   "metadata": {},
   "outputs": [],
   "source": [
    "import networkx as nx\n",
    "import json\n",
    "import matplotlib.pyplot as plt\n",
    "import numpy as np"
   ]
  },
  {
   "cell_type": "code",
   "execution_count": 3,
   "metadata": {
    "scrolled": true
   },
   "outputs": [],
   "source": [
    "DiGold = get_DiGraph_from_file()"
   ]
  },
  {
   "cell_type": "code",
   "execution_count": 4,
   "metadata": {},
   "outputs": [],
   "source": [
    "concepts = read_concepts_from_file(\"data/gold_wiki_concepts.json\")"
   ]
  },
  {
   "cell_type": "code",
   "execution_count": 5,
   "metadata": {},
   "outputs": [],
   "source": [
    "ac1_concepts = read_concepts_from_file(\"data/ac1_wiki_concepts.json\")"
   ]
  },
  {
   "cell_type": "code",
   "execution_count": 6,
   "metadata": {},
   "outputs": [],
   "source": [
    "DiAC1 = get_AC1_Graph_from_file()"
   ]
  },
  {
   "cell_type": "code",
   "execution_count": 7,
   "metadata": {},
   "outputs": [
    {
     "name": "stdout",
     "output_type": "stream",
     "text": [
      "3705 3888 3848\n"
     ]
    }
   ],
   "source": [
    "dac = remove_backward_edges(DiGold, \"Q35120\")\n",
    "print(len(list(dac.edges())), len(list(DiGold.edges())), len(list(nx.edge_dfs(DiGold, \"Q35120\"))))"
   ]
  },
  {
   "cell_type": "code",
   "execution_count": 8,
   "metadata": {},
   "outputs": [],
   "source": [
    "from IPython.display import Image, display\n",
    "\n",
    "def draw_graph(name, graph, concepts):\n",
    "    concepts_in_graph = [n for n in concepts if n[0] in graph.nodes()]\n",
    "    g = get_graphic_G(graph, concepts_in_graph)\n",
    "    im = Image(g.create_png())\n",
    "    display(im)\n",
    "    g.write_png(name+\".png\")\n"
   ]
  },
  {
   "cell_type": "code",
   "execution_count": null,
   "metadata": {},
   "outputs": [],
   "source": []
  },
  {
   "cell_type": "code",
   "execution_count": null,
   "metadata": {},
   "outputs": [],
   "source": []
  },
  {
   "cell_type": "code",
   "execution_count": null,
   "metadata": {},
   "outputs": [],
   "source": []
  },
  {
   "cell_type": "code",
   "execution_count": 12,
   "metadata": {},
   "outputs": [
    {
     "name": "stdout",
     "output_type": "stream",
     "text": [
      "['5', '1', '1', '7', '10082', '54', '8', '2', '80', '4', '1', '3', '9', '203', '6', '790', '100', '1', '6', '500546', '1', '4', '2', '1', '60', '2', '253', '1', '15077', '1', '216439', '51', '1752', '5', '154', '3166', '1', '1', '1', '308', '1', '1', '1', '1', '40', '1', '52', '102', '9', '1', '9567', '38078', '211', '123', '1', '2', '11', '25', '2', '6', '77', '4', '7871', '1', '7536', '6', '11', '242', None, '10', '8483', '3', '10700', '433', '145', '47', '1', '1', '1', '91240', '33', '69811', '63', '89', '1', '1', '11709', '47', '2', '352395', '19', '4', '4', '43', '1', '79', '3', '2', '55', '1', '43', '23695', '9', '5090', '1', '2', '2', '35', '10', '1459', '21', '13458', '2', '1', '1', '15', '1652', '15', '1', '1054', '10', '18', '9', '1151', '3', '1', '8', '13', '1', '111', '633', '2', '11275', '1', None, '2', '34', '181', '1', '24', '95', '3755', '228', '20', '320', '5', '6624', '198', '40814', '27', '70', '2', '1', '4', '1', '1', '100', '1', '1', '2', '855', '1', '5273', None, '5', '1', '184013', '6', '1', '6', '5', '1208', '9', '2', '1', '1', '6', '7', '309977', '1', '1', '458578', '3329', '6', '251022', '13', '2', '1', '16', '1', '2', '1', '1', '2', '803', '1', '143', None, '14', '26', '64879', '4965', '1', '28533', '1', '4', '68', '4', '3746', '7', '12', '1', '1']\n"
     ]
    }
   ],
   "source": [
    "def information_content(concepts):\n",
    "    IC = []\n",
    "    for c, i in concepts:\n",
    "        IC.append(wikidata_sparql_request(query_freq_wikidata(c,2)))\n",
    "    return IC\n",
    "\n",
    "\n",
    "ic = information_content(concepts)\n",
    "ic = [c[0][\"count\"][\"value\"] if c != None else None for c in ic]\n",
    "print(ic)"
   ]
  },
  {
   "cell_type": "code",
   "execution_count": 14,
   "metadata": {},
   "outputs": [],
   "source": [
    "import json\n",
    "\n",
    "with open(\"data/IC_concepts_gold.json\", \"w+\") as f:\n",
    "    f.write(json.dumps(ic, indent=2))"
   ]
  },
  {
   "cell_type": "code",
   "execution_count": null,
   "metadata": {},
   "outputs": [],
   "source": []
  },
  {
   "cell_type": "code",
   "execution_count": null,
   "metadata": {},
   "outputs": [],
   "source": []
  },
  {
   "cell_type": "code",
   "execution_count": null,
   "metadata": {},
   "outputs": [],
   "source": []
  },
  {
   "cell_type": "code",
   "execution_count": null,
   "metadata": {},
   "outputs": [],
   "source": []
  },
  {
   "cell_type": "code",
   "execution_count": null,
   "metadata": {},
   "outputs": [],
   "source": [
    "SubG = get_subgraph_from_dac(dac,\"Q197\")\n",
    "draw_graph(\"pic/life\",SubG , concepts)"
   ]
  },
  {
   "cell_type": "code",
   "execution_count": null,
   "metadata": {},
   "outputs": [],
   "source": [
    "SubG_AC1 = get_subgraph_from(DiAC1,\"Q42889\", 10)\n",
    "draw_graph(\"pic/test\",SubG_AC1 , ac1_concepts)"
   ]
  },
  {
   "cell_type": "code",
   "execution_count": null,
   "metadata": {
    "scrolled": true
   },
   "outputs": [],
   "source": []
  },
  {
   "cell_type": "code",
   "execution_count": null,
   "metadata": {},
   "outputs": [],
   "source": []
  },
  {
   "cell_type": "code",
   "execution_count": null,
   "metadata": {},
   "outputs": [],
   "source": []
  },
  {
   "cell_type": "code",
   "execution_count": null,
   "metadata": {},
   "outputs": [],
   "source": []
  },
  {
   "cell_type": "code",
   "execution_count": null,
   "metadata": {},
   "outputs": [],
   "source": []
  },
  {
   "cell_type": "code",
   "execution_count": null,
   "metadata": {},
   "outputs": [],
   "source": []
  },
  {
   "cell_type": "code",
   "execution_count": null,
   "metadata": {},
   "outputs": [],
   "source": []
  },
  {
   "cell_type": "code",
   "execution_count": null,
   "metadata": {},
   "outputs": [],
   "source": [
    "\n"
   ]
  },
  {
   "cell_type": "code",
   "execution_count": null,
   "metadata": {},
   "outputs": [],
   "source": []
  }
 ],
 "metadata": {
  "kernelspec": {
   "display_name": "Python 3",
   "language": "python",
   "name": "python3"
  },
  "language_info": {
   "codemirror_mode": {
    "name": "ipython",
    "version": 3
   },
   "file_extension": ".py",
   "mimetype": "text/x-python",
   "name": "python",
   "nbconvert_exporter": "python",
   "pygments_lexer": "ipython3",
   "version": "3.7.3"
  }
 },
 "nbformat": 4,
 "nbformat_minor": 2
}
