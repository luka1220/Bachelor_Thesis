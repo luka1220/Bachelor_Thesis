{
 "cells": [
  {
   "cell_type": "code",
   "execution_count": 13,
   "metadata": {},
   "outputs": [
    {
     "name": "stdout",
     "output_type": "stream",
     "text": [
      "The autoreload extension is already loaded. To reload it, use:\n",
      "  %reload_ext autoreload\n"
     ]
    }
   ],
   "source": [
    "%load_ext autoreload\n",
    "%autoreload 2\n",
    "from connection import sparql_request, wsd_request\n",
    "import sparql as sql\n",
    "from analytics import DiGraph, DAC, BabelNet_DiGraph\n",
    "from similarity import ConceptSimilarity\n",
    "from dataset import Dataset, SentenceDataset, map_name\n",
    "from evaluation import WordSimEvaluation\n",
    "from wmd import WordMoversSimilarity\n",
    "from preprocessing import get_ideas_in_format, convert_dataset_dbp2wikidata\n",
    "from helpers import flatten_array\n",
    "import numpy as np"
   ]
  },
  {
   "cell_type": "code",
   "execution_count": 73,
   "metadata": {},
   "outputs": [],
   "source": [
    "pairs, sim = SData.load_i2m2018_ideas(map_name[\"environment\"])"
   ]
  },
  {
   "cell_type": "code",
   "execution_count": 2,
   "metadata": {},
   "outputs": [],
   "source": [
    "def setup_dataset_graph(dataset_name, database=\"wikidata\", relatedness=True):\n",
    "    con, cc, text = get_ideas_in_format(dataset_name, database=database)\n",
    "    diG = DiGraph(concepts=con,dataset=dataset_name, database=database, relatedness=relatedness)\n",
    "    #diG.build_nx_graph()\n",
    "    if database==\"wikidata\":\n",
    "        diG.global_secondorder_freq()"
   ]
  },
  {
   "cell_type": "code",
   "execution_count": 3,
   "metadata": {},
   "outputs": [
    {
     "name": "stdout",
     "output_type": "stream",
     "text": [
      "Percent: 100.0% Worte to file: data/wikidata/DiGraph_rel_ac1.gml\n"
     ]
    }
   ],
   "source": [
    "setup_dataset_graph(\"ac1\")"
   ]
  },
  {
   "cell_type": "code",
   "execution_count": 75,
   "metadata": {},
   "outputs": [],
   "source": [
    "pairs = SData.sentence_concept_annotation(dataset_name)"
   ]
  },
  {
   "cell_type": "code",
   "execution_count": 76,
   "metadata": {},
   "outputs": [],
   "source": [
    "d,dd = convert_dataset_dbp2wikidata(dataset_name)"
   ]
  },
  {
   "cell_type": "code",
   "execution_count": 5,
   "metadata": {},
   "outputs": [],
   "source": [
    "dataset_name=\"SmartTextile\"\n",
    "con, cc, text = get_ideas_in_format(dataset_name, database=\"babelnet\")\n"
   ]
  },
  {
   "cell_type": "code",
   "execution_count": 38,
   "metadata": {},
   "outputs": [],
   "source": [
    "contestIDs = [project[\"project\"][\"value\"] for project in sparql_request(sql.query_innovonto_contests(), database=\"innovonto-core\")]"
   ]
  },
  {
   "cell_type": "code",
   "execution_count": 39,
   "metadata": {},
   "outputs": [
    {
     "data": {
      "text/plain": [
       "[]"
      ]
     },
     "execution_count": 39,
     "metadata": {},
     "output_type": "execute_result"
    }
   ],
   "source": [
    "contestIDs"
   ]
  },
  {
   "cell_type": "code",
   "execution_count": 53,
   "metadata": {},
   "outputs": [],
   "source": [
    "from pyld import jsonld\n",
    "\n",
    "\n",
    "def constructFrame(response, ctype):\n",
    "    frame = {\n",
    "        \"@context\": response[\"@context\"],\n",
    "        \"@type\": ctype,\n",
    "        \"@embed\": \"@always\"\n",
    "    }\n",
    "    return frame\n",
    "\n",
    "res = sparql_request(sql.query_find_all_contest_ideas(\"http://purl.org/innovonto/ideaContests/TCO\"), database=\"innovonto-core\")\n",
    "datasetTCO = jsonld.frame(res, constructFrame(res, \"gi2mo:Idea\"))"
   ]
  },
  {
   "cell_type": "code",
   "execution_count": 54,
   "metadata": {},
   "outputs": [],
   "source": [
    "dataTCO = [dict(id=idea[\"@id\"],content=idea[\"content\"],concept=idea[\"concept\"]) for idea in datasetTCO[\"@graph\"] if not \"textualRefinement\" in idea]"
   ]
  },
  {
   "cell_type": "code",
   "execution_count": 60,
   "metadata": {},
   "outputs": [
    {
     "data": {
      "text/plain": [
       "17"
      ]
     },
     "execution_count": 60,
     "metadata": {},
     "output_type": "execute_result"
    }
   ],
   "source": [
    "len(dataTCO)"
   ]
  },
  {
   "cell_type": "code",
   "execution_count": 23,
   "metadata": {},
   "outputs": [
    {
     "data": {
      "text/plain": [
       "'\\n    prefix bn: <http://babelnet.org/rdf/s>\\n    SELECT (COUNT(*) AS ?count) \\n    WHERE {?item skos:broader bn:003107n.}\\n    '"
      ]
     },
     "execution_count": 23,
     "metadata": {},
     "output_type": "execute_result"
    }
   ],
   "source": [
    "sql.query_babelnet_number_of(\"bn:003107n\")"
   ]
  },
  {
   "cell_type": "code",
   "execution_count": 36,
   "metadata": {},
   "outputs": [
    {
     "data": {
      "text/plain": [
       "[]"
      ]
     },
     "execution_count": 36,
     "metadata": {},
     "output_type": "execute_result"
    }
   ],
   "source": [
    "sparql_request(sql.babelnet_paths2top(\"bn:003107n\"), database=\"babelnet\")"
   ]
  },
  {
   "cell_type": "code",
   "execution_count": 6,
   "metadata": {},
   "outputs": [],
   "source": [
    "diG = BabelNet_DiGraph(concepts=con,dataset=dataset_name, database=\"babelnet\")"
   ]
  },
  {
   "cell_type": "code",
   "execution_count": 7,
   "metadata": {},
   "outputs": [
    {
     "name": "stdout",
     "output_type": "stream",
     "text": [
      "Percent: 100.0% Worte to file: data/babelnet/DiGraph_SmartTextile.gml\n"
     ]
    }
   ],
   "source": [
    "diG.global_secondorder_freq()"
   ]
  },
  {
   "cell_type": "code",
   "execution_count": 156,
   "metadata": {},
   "outputs": [
    {
     "data": {
      "text/plain": [
       "3597"
      ]
     },
     "execution_count": 156,
     "metadata": {},
     "output_type": "execute_result"
    }
   ],
   "source": [
    "diG.graph.__len__()"
   ]
  },
  {
   "cell_type": "code",
   "execution_count": 159,
   "metadata": {},
   "outputs": [
    {
     "name": "stdout",
     "output_type": "stream",
     "text": [
      "done calculation all shortest distance\n"
     ]
    }
   ],
   "source": [
    "csimi = ConceptSimilarity(diG)\n",
    "M, LCS = csimi.all_shortest_paths_and_LCS()"
   ]
  },
  {
   "cell_type": "code",
   "execution_count": 80,
   "metadata": {},
   "outputs": [
    {
     "name": "stdout",
     "output_type": "stream",
     "text": [
      "Percent: 26.79%timeout Q3013519\n",
      "Percent: 50.07%timeout Q31207\n",
      "Percent: 100.0% Worte to file: data/wikidata/DiGraph_rel_environment.gml\n"
     ]
    }
   ],
   "source": [
    "diG.global_secondorder_freq()"
   ]
  },
  {
   "cell_type": "code",
   "execution_count": 68,
   "metadata": {},
   "outputs": [
    {
     "data": {
      "text/plain": [
       "array([0, 1, 2, 3, 4, 5, 6, 7, 8])"
      ]
     },
     "execution_count": 68,
     "metadata": {},
     "output_type": "execute_result"
    }
   ],
   "source": [
    "a[:11]"
   ]
  },
  {
   "cell_type": "code",
   "execution_count": 3,
   "metadata": {},
   "outputs": [],
   "source": [
    "\n",
    "from nltk.corpus.reader.wordnet import information_content"
   ]
  },
  {
   "cell_type": "code",
   "execution_count": null,
   "metadata": {},
   "outputs": [],
   "source": []
  },
  {
   "cell_type": "code",
   "execution_count": 7,
   "metadata": {},
   "outputs": [],
   "source": [
    "c, cc, text = get_ideas_in_format(\"MSRvid\")"
   ]
  },
  {
   "cell_type": "code",
   "execution_count": 72,
   "metadata": {},
   "outputs": [
    {
     "ename": "NameError",
     "evalue": "name 'c' is not defined",
     "output_type": "error",
     "traceback": [
      "\u001b[0;31m---------------------------------------------------------------------------\u001b[0m",
      "\u001b[0;31mNameError\u001b[0m                                 Traceback (most recent call last)",
      "\u001b[0;32m<ipython-input-72-f927067a84e3>\u001b[0m in \u001b[0;36m<module>\u001b[0;34m\u001b[0m\n\u001b[0;32m----> 1\u001b[0;31m \u001b[0mdg_sen\u001b[0m \u001b[0;34m=\u001b[0m \u001b[0mDiGraph\u001b[0m\u001b[0;34m(\u001b[0m\u001b[0mconcepts\u001b[0m\u001b[0;34m=\u001b[0m\u001b[0mc\u001b[0m\u001b[0;34m,\u001b[0m \u001b[0mdataset\u001b[0m\u001b[0;34m=\u001b[0m\u001b[0;34m\"MSRvid\"\u001b[0m\u001b[0;34m,\u001b[0m \u001b[0mrelatedness\u001b[0m\u001b[0;34m=\u001b[0m\u001b[0;32mTrue\u001b[0m\u001b[0;34m)\u001b[0m\u001b[0;34m\u001b[0m\u001b[0;34m\u001b[0m\u001b[0m\n\u001b[0m",
      "\u001b[0;31mNameError\u001b[0m: name 'c' is not defined"
     ]
    }
   ],
   "source": [
    "dg_sen = DiGraph(concepts=c, dataset=\"MSRvid\", relatedness=True)"
   ]
  },
  {
   "cell_type": "code",
   "execution_count": null,
   "metadata": {},
   "outputs": [],
   "source": []
  },
  {
   "cell_type": "code",
   "execution_count": 300,
   "metadata": {},
   "outputs": [
    {
     "name": "stdout",
     "output_type": "stream",
     "text": [
      "Percent: 0.04%"
     ]
    },
    {
     "name": "stderr",
     "output_type": "stream",
     "text": [
      "[autoreload of evaluation failed: Traceback (most recent call last):\n",
      "  File \"/Users/lukastaerk/Library/Python/3.7/lib/python/site-packages/IPython/extensions/autoreload.py\", line 245, in check\n",
      "    superreload(m, reload, self.old_objects)\n",
      "  File \"/Users/lukastaerk/Library/Python/3.7/lib/python/site-packages/IPython/extensions/autoreload.py\", line 410, in superreload\n",
      "    update_generic(old_obj, new_obj)\n",
      "  File \"/Users/lukastaerk/Library/Python/3.7/lib/python/site-packages/IPython/extensions/autoreload.py\", line 347, in update_generic\n",
      "    update(a, b)\n",
      "  File \"/Users/lukastaerk/Library/Python/3.7/lib/python/site-packages/IPython/extensions/autoreload.py\", line 302, in update_class\n",
      "    if update_generic(old_obj, new_obj): continue\n",
      "  File \"/Users/lukastaerk/Library/Python/3.7/lib/python/site-packages/IPython/extensions/autoreload.py\", line 347, in update_generic\n",
      "    update(a, b)\n",
      "  File \"/Users/lukastaerk/Library/Python/3.7/lib/python/site-packages/IPython/extensions/autoreload.py\", line 266, in update_function\n",
      "    setattr(old, name, getattr(new, name))\n",
      "ValueError: __init__() requires a code object with 1 free vars, not 0\n",
      "]\n"
     ]
    },
    {
     "name": "stdout",
     "output_type": "stream",
     "text": [
      "Percent: 67.02%timeout Q1433006\n",
      "Percent: 100.0% Worte to file: data/wikidata/DiGraph_rel_MSRvid.gml\n"
     ]
    }
   ],
   "source": [
    "dg_sen.global_secondorder_freq()"
   ]
  },
  {
   "cell_type": "code",
   "execution_count": 82,
   "metadata": {},
   "outputs": [
    {
     "name": "stderr",
     "output_type": "stream",
     "text": [
      "SystemError: <class 'UnicodeDecodeError'> returned a result with an error set\n"
     ]
    },
    {
     "name": "stdout",
     "output_type": "stream",
     "text": [
      "done calculation all shortest distance for: freq\n"
     ]
    },
    {
     "data": {
      "text/plain": [
       "(array([[ 0.,  5.,  7., ..., 10., 17.,  5.],\n",
       "        [ 5.,  0., 15., ..., 19., 17., 17.],\n",
       "        [ 7., 15.,  0., ...,  9., 17.,  8.],\n",
       "        ...,\n",
       "        [10., 19.,  9., ...,  0., 16.,  4.],\n",
       "        [17., 17., 17., ..., 16.,  0., 17.],\n",
       "        [ 5., 17.,  8., ...,  4., 17.,  0.]]),\n",
       " array([[4447.,  962.,  299., ...,  612.,  494.,  210.],\n",
       "        [ 962., 3723.,  329., ...,   89.,   89.,   89.],\n",
       "        [ 299.,  329., 3275., ...,  301.,  196.,  302.],\n",
       "        ...,\n",
       "        [ 612.,   89.,  301., ..., 2615.,  385.,  809.],\n",
       "        [ 494.,   89.,  196., ...,  385., 2648.,  307.],\n",
       "        [ 210.,   89.,  302., ...,  809.,  307., 3317.]]))"
      ]
     },
     "execution_count": 82,
     "metadata": {},
     "output_type": "execute_result"
    }
   ],
   "source": [
    "CS = ConceptSimilarity(dg)\n",
    "CS.all_shortest_paths_and_LCS(lcs_pref_value=\"freq\")"
   ]
  },
  {
   "cell_type": "code",
   "execution_count": 14,
   "metadata": {},
   "outputs": [
    {
     "data": {
      "text/plain": [
       "{'text': 'With the help of TCO, simple measurements can be carried out in urban areas that would otherwise require more complex installations. The frequency of use can be measured by contact on roads, park benches, bicycle stations, bus stops, so that one knows more about the requirements and necessities in urban space.',\n",
       " 'concepts': [{'value': 'measurements', 'wikidata_id': 'Q12453'},\n",
       "  {'value': 'park', 'wikidata_id': 'Q22698'},\n",
       "  {'value': 'bicycle', 'wikidata_id': 'Q11442'},\n",
       "  {'value': 'benches', 'wikidata_id': 'Q204776'},\n",
       "  {'value': 'urban space', 'wikidata_id': 'Q702492'},\n",
       "  {'value': 'bus', 'wikidata_id': 'Q5638'}]}"
      ]
     },
     "execution_count": 14,
     "metadata": {},
     "output_type": "execute_result"
    }
   ],
   "source": [
    "c, datagold = DS.load_idea_dataset(\"ac1\")\n",
    "datagold[1]"
   ]
  },
  {
   "cell_type": "code",
   "execution_count": 188,
   "metadata": {},
   "outputs": [
    {
     "name": "stdout",
     "output_type": "stream",
     "text": [
      "done calculation all shortest distance for: freq\n"
     ]
    }
   ],
   "source": [
    "sim = CS.similarityMatrix()"
   ]
  },
  {
   "cell_type": "code",
   "execution_count": 192,
   "metadata": {},
   "outputs": [
    {
     "name": "stdout",
     "output_type": "stream",
     "text": [
      "You could put it on a car for businesses or self employed people to advertise. A realtor could add a house address or a hairdresser or restaurant could put a daily special or coupon code. \n",
      " The walls of schools could be interactive flashcards. \n",
      " You could put it on your car windows to make them darker or lighter for privacy, that would also help with sun glare, you could touch the spot where the sun is shining in your eyes.\n"
     ]
    }
   ],
   "source": [
    "wmd = WordMoversSimilarity(sim, CS.G._concepts)\n",
    "c, datagold = DS.load_idea_dataset(\"gold\")\n",
    "s1, s2, s4 = datagold[0], datagold[1], datagold[3]\n",
    "print(s1[\"text\"],'\\n', s2[\"text\"], '\\n', s4[\"text\"])"
   ]
  },
  {
   "cell_type": "code",
   "execution_count": null,
   "metadata": {},
   "outputs": [],
   "source": []
  },
  {
   "cell_type": "code",
   "execution_count": 193,
   "metadata": {},
   "outputs": [
    {
     "name": "stdout",
     "output_type": "stream",
     "text": [
      "['car', 'businesses', 'self employed people', 'advertise', 'realtor', 'house address', 'hairdresser', 'restaurant', 'daily special', 'coupon code', 'self employed', 'people', 'realtor', 'house', 'daily special', 'coupon'] \n",
      " ['walls', 'schools', 'interactive flashcards', 'flashcards'] \n",
      " ['stove', 'making new recipes', 'recipes', 'making']\n",
      "[[0.78848029 0.20887529 0.11358724 0.18766572 0.38453939 0.\n",
      "  0.066149  ]\n",
      " [0.1813523  0.06303008 0.06303008 0.10262329 0.14531214 0.\n",
      "  0.09769361]\n",
      " [0.16733064 0.12119813 0.10340304 0.07610782 0.18103444 0.\n",
      "  0.07024914]\n",
      " [0.22281668 0.0728209  0.08768027 0.06723397 0.13523279 0.\n",
      "  0.05629237]\n",
      " [0.15555552 0.06807059 0.09589706 0.05883535 0.11255755 0.\n",
      "  0.05399552]\n",
      " [0.1390422  0.09523807 0.11706478 0.12729644 0.42954167 0.\n",
      "  0.10551367]\n",
      " [0.15555552 0.07380212 0.10904172 0.06307567 0.12487036 0.\n",
      "  0.05750521]\n",
      " [0.25932411 0.11506846 0.13215468 0.06894331 0.24718567 0.\n",
      "  0.066149  ]\n",
      " [0.05401986 0.05401986 0.16588739 0.06021335 0.08121222 0.\n",
      "  0.05120571]\n",
      " [0.20483636 0.05623647 0.35905207 0.06353029 0.10044912 0.\n",
      "  0.05362869]\n",
      " [0.16733064 0.12119813 0.10340304 0.07610782 0.18103444 0.\n",
      "  0.07024914]\n",
      " [0.12473024 0.06651322 0.06651322 0.11242947 0.12473024 0.\n",
      "  0.09032473]\n",
      " [0.15555552 0.11223181 0.08148522 0.06353029 0.16733064 0.\n",
      "  0.066149  ]\n",
      " [0.25570831 0.05525047 0.08148522 0.06353029 0.13507028 0.\n",
      "  0.05362869]\n",
      " [0.11898613 0.09750935 0.09750935 0.11898613 0.13371132 0.\n",
      "  0.10718247]\n",
      " [0.20483636 0.05623647 0.35905207 0.06353029 0.10044912 0.\n",
      "  0.05362869]]\n"
     ]
    },
    {
     "data": {
      "text/plain": [
       "0.2675425024528055"
      ]
     },
     "execution_count": 193,
     "metadata": {},
     "output_type": "execute_result"
    }
   ],
   "source": [
    "ss1,ss2, ss4 = [c[\"id\"] for c in s1[\"concepts\"]], [c[\"id\"] for c in s2[\"concepts\"]], [c[\"id\"] for c in s4[\"concepts\"]]\n",
    "v1,v2, v4 = [c[\"value\"] for c in s1[\"concepts\"]], [c[\"value\"] for c in s2[\"concepts\"]], [c[\"value\"] for c in s4[\"concepts\"]]\n",
    "print(v1,'\\n', v2,'\\n', v3)\n",
    "prob = wmd.word_mover_distance_probspec(ss1, ss4)\n",
    "pulp.value(prob.objective)"
   ]
  },
  {
   "cell_type": "code",
   "execution_count": null,
   "metadata": {},
   "outputs": [],
   "source": []
  },
  {
   "cell_type": "code",
   "execution_count": 56,
   "metadata": {},
   "outputs": [
    {
     "name": "stdout",
     "output_type": "stream",
     "text": [
      "Percent: 0.08%"
     ]
    },
    {
     "ename": "TypeError",
     "evalue": "'NoneType' object is not iterable",
     "output_type": "error",
     "traceback": [
      "\u001b[0;31m---------------------------------------------------------------------------\u001b[0m",
      "\u001b[0;31mTypeError\u001b[0m                                 Traceback (most recent call last)",
      "\u001b[0;32m<ipython-input-56-0ddcc7509bec>\u001b[0m in \u001b[0;36m<module>\u001b[0;34m\u001b[0m\n\u001b[0;32m----> 1\u001b[0;31m \u001b[0mdg\u001b[0m\u001b[0;34m.\u001b[0m\u001b[0mbuild_nx_graph\u001b[0m\u001b[0;34m(\u001b[0m\u001b[0mconcepts\u001b[0m\u001b[0;34m=\u001b[0m\u001b[0mcon\u001b[0m\u001b[0;34m)\u001b[0m\u001b[0;34m\u001b[0m\u001b[0;34m\u001b[0m\u001b[0m\n\u001b[0m",
      "\u001b[0;32m~/Bachelor_Thesis/src/analytics.py\u001b[0m in \u001b[0;36mbuild_nx_graph\u001b[0;34m(self, concepts, query)\u001b[0m\n\u001b[1;32m    133\u001b[0m                 \u001b[0mkey\u001b[0m \u001b[0;34m=\u001b[0m \u001b[0mkeys\u001b[0m\u001b[0;34m.\u001b[0m\u001b[0mpop\u001b[0m\u001b[0;34m(\u001b[0m\u001b[0;34m)\u001b[0m\u001b[0;34m\u001b[0m\u001b[0;34m\u001b[0m\u001b[0m\n\u001b[1;32m    134\u001b[0m                 \u001b[0;32mif\u001b[0m \u001b[0mself\u001b[0m\u001b[0;34m.\u001b[0m\u001b[0m_relatedness\u001b[0m\u001b[0;34m:\u001b[0m\u001b[0;34m\u001b[0m\u001b[0;34m\u001b[0m\u001b[0m\n\u001b[0;32m--> 135\u001b[0;31m                     \u001b[0;32mfor\u001b[0m \u001b[0mr\u001b[0m \u001b[0;32min\u001b[0m \u001b[0msparql_request\u001b[0m\u001b[0;34m(\u001b[0m\u001b[0mquery\u001b[0m\u001b[0;34m(\u001b[0m\u001b[0mkey\u001b[0m\u001b[0;34m,\u001b[0m \u001b[0msql\u001b[0m\u001b[0;34m.\u001b[0m\u001b[0mrelation_prop\u001b[0m\u001b[0;34m)\u001b[0m\u001b[0;34m,\u001b[0m \u001b[0mself\u001b[0m\u001b[0;34m.\u001b[0m\u001b[0m_database\u001b[0m\u001b[0;34m)\u001b[0m\u001b[0;34m:\u001b[0m\u001b[0;34m\u001b[0m\u001b[0;34m\u001b[0m\u001b[0m\n\u001b[0m\u001b[1;32m    136\u001b[0m                         (k1, v1, k2, v2, pre) = (r[\"item\"][\"value\"].split(\"/\")[-1],\n\u001b[1;32m    137\u001b[0m                                             \u001b[0mr\u001b[0m\u001b[0;34m[\u001b[0m\u001b[0;34m\"itemLabel\"\u001b[0m\u001b[0;34m]\u001b[0m\u001b[0;34m[\u001b[0m\u001b[0;34m\"value\"\u001b[0m\u001b[0;34m]\u001b[0m\u001b[0;34m,\u001b[0m\u001b[0;34m\u001b[0m\u001b[0;34m\u001b[0m\u001b[0m\n",
      "\u001b[0;31mTypeError\u001b[0m: 'NoneType' object is not iterable"
     ]
    }
   ],
   "source": [
    "dg.build_nx_graph(concepts=con)"
   ]
  },
  {
   "cell_type": "code",
   "execution_count": 53,
   "metadata": {},
   "outputs": [
    {
     "name": "stdout",
     "output_type": "stream",
     "text": [
      "Percent: 100.0% Worte to file: data/wikidata/DiGraph_rel_noun_simlex.gml\n"
     ]
    }
   ],
   "source": [
    "dg.global_secondorder_freq()"
   ]
  },
  {
   "cell_type": "code",
   "execution_count": 28,
   "metadata": {},
   "outputs": [],
   "source": [
    "ws353 = DAC(dataset=\"noun_ws353\", relatedness=True)\n",
    "con, w, func = DS.transform_dataset(\"noun_ws353\")\n"
   ]
  },
  {
   "cell_type": "code",
   "execution_count": 29,
   "metadata": {},
   "outputs": [],
   "source": [
    "import visualize as vis "
   ]
  },
  {
   "cell_type": "code",
   "execution_count": 30,
   "metadata": {},
   "outputs": [],
   "source": [
    "vehicle = ws353.get_subgraph_from(\"Q42889\")"
   ]
  },
  {
   "cell_type": "code",
   "execution_count": 31,
   "metadata": {},
   "outputs": [
    {
     "data": {
      "image/png": "[encoded data removed]",
      "text/plain": [
       "<IPython.core.display.Image object>"
      ]
     },
     "metadata": {},
     "output_type": "display_data"
    }
   ],
   "source": [
    "v = vis.draw_graph(\"vehicle\",vehicle, concepts=ws353._concepts)"
   ]
  },
  {
   "cell_type": "code",
   "execution_count": 22,
   "metadata": {},
   "outputs": [],
   "source": [
    "ws_e = WordSimEvaluation()"
   ]
  },
  {
   "cell_type": "code",
   "execution_count": null,
   "metadata": {},
   "outputs": [],
   "source": [
    "ws_e.evaluate_wpath_k(\"wpath_graph\", \"noun_rg\", lsc_pref_value=\"freq1\", ic_func=\"ic_graph_local\",display_table=True, relatedness=True)"
   ]
  },
  {
   "cell_type": "code",
   "execution_count": 33,
   "metadata": {},
   "outputs": [],
   "source": [
    "consim = ConceptSimilarity(ws353)"
   ]
  },
  {
   "cell_type": "code",
   "execution_count": 37,
   "metadata": {},
   "outputs": [
    {
     "name": "stdout",
     "output_type": "stream",
     "text": [
      "[Synset('car.n.01'), Synset('car.n.02'), Synset('car.n.03'), Synset('car.n.04'), Synset('cable_car.n.01')] [Synset('motorcycle.n.01'), Synset('bicycle.n.01')]\n"
     ]
    },
    {
     "data": {
      "text/plain": [
       "0.13200341371534552"
      ]
     },
     "execution_count": 37,
     "metadata": {},
     "output_type": "execute_result"
    }
   ],
   "source": [
    "consim.wn_wpath(1,2, noun1=\"car\", noun2=\"bike\")"
   ]
  },
  {
   "cell_type": "code",
   "execution_count": 6,
   "metadata": {},
   "outputs": [
    {
     "name": "stdout",
     "output_type": "stream",
     "text": [
      "done calculation all shortest distance\n"
     ]
    },
    {
     "data": {
      "text/plain": [
       "(array([], shape=(0, 0), dtype=float64),\n",
       " array([], shape=(0, 0), dtype=float64))"
      ]
     },
     "execution_count": 6,
     "metadata": {},
     "output_type": "execute_result"
    }
   ],
   "source": [
    "consim.all_shortest_paths_and_LCS()"
   ]
  },
  {
   "cell_type": "code",
   "execution_count": 26,
   "metadata": {},
   "outputs": [],
   "source": [
    "from pyemd import emd, emd_with_flow\n",
    "import numpy as np"
   ]
  },
  {
   "cell_type": "code",
   "execution_count": 27,
   "metadata": {},
   "outputs": [
    {
     "name": "stdout",
     "output_type": "stream",
     "text": [
      "[0.5 0.5 0. ] [0.33333333 0.33333333 0.33333333] [[0.1 0.8 0.8]\n",
      " [0.5 0.6 0.2]\n",
      " [1.  1.  1. ]]\n"
     ]
    }
   ],
   "source": [
    "a = np.ones(3)/2\n",
    "a[2]= 0\n",
    "b = np.ones(3)/3\n",
    "dist = np.array([[0.1, 0.8, 0.8],\n",
    "                [0.5, 0.6, 0.2], \n",
    "                [1,1,1]])\n",
    "print(a, b, dist)"
   ]
  },
  {
   "cell_type": "code",
   "execution_count": 32,
   "metadata": {},
   "outputs": [
    {
     "name": "stdout",
     "output_type": "stream",
     "text": [
      "0.16666620000000001\n",
      "[[0.333333 0.       0.166666]\n",
      " [0.       0.333333 0.166667]\n",
      " [0.       0.       0.      ]]\n"
     ]
    }
   ],
   "source": [
    "r = emd_with_flow(a, b, dist)\n",
    "print(r[0])\n",
    "flow = np.array(r[1])\n",
    "print(flow)"
   ]
  },
  {
   "cell_type": "code",
   "execution_count": 35,
   "metadata": {},
   "outputs": [
    {
     "data": {
      "text/plain": [
       "0.3999993"
      ]
     },
     "execution_count": 35,
     "metadata": {},
     "output_type": "execute_result"
    }
   ],
   "source": [
    "sum(sum(dist*flow))"
   ]
  },
  {
   "cell_type": "code",
   "execution_count": 39,
   "metadata": {},
   "outputs": [],
   "source": [
    "import pulp"
   ]
  },
  {
   "cell_type": "code",
   "execution_count": 47,
   "metadata": {},
   "outputs": [
    {
     "data": {
      "text/plain": [
       "[('sdaf', 0), ('sdaf', 1), ('sadf', 0), ('sadf', 1)]"
      ]
     },
     "execution_count": 47,
     "metadata": {},
     "output_type": "execute_result"
    }
   ],
   "source": [
    "from itertools import product\n",
    "from collections import defaultdict\n",
    "list(product([\"sdaf\", \"sadf\"], range(2)))"
   ]
  },
  {
   "cell_type": "code",
   "execution_count": 46,
   "metadata": {},
   "outputs": [
    {
     "data": {
      "text/plain": [
       "{'asdf': 0.5, 'sadf': 0.5}"
      ]
     },
     "execution_count": 46,
     "metadata": {},
     "output_type": "execute_result"
    }
   ],
   "source": [
    "tokens_to_fracdict([\"asdf\", \"sadf\"])"
   ]
  },
  {
   "cell_type": "code",
   "execution_count": null,
   "metadata": {},
   "outputs": [],
   "source": []
  },
  {
   "cell_type": "code",
   "execution_count": 76,
   "metadata": {},
   "outputs": [],
   "source": [
    "a = [\"President\", \"talk\", \"Chicago\"]\n",
    "b = [\"President\", \"Illinois\"]\n",
    "dist = np.array([[0.8, 0.1, 0.1],\n",
    "                [0.2, 0.6, 0.7]])\n",
    "prob = word_mover_distance_probspec(b, a, dist)"
   ]
  },
  {
   "cell_type": "code",
   "execution_count": 75,
   "metadata": {},
   "outputs": [
    {
     "data": {
      "text/plain": [
       "0.53333333"
      ]
     },
     "execution_count": 75,
     "metadata": {},
     "output_type": "execute_result"
    }
   ],
   "source": [
    "pulp.value(prob.objective)"
   ]
  },
  {
   "cell_type": "code",
   "execution_count": 71,
   "metadata": {},
   "outputs": [
    {
     "data": {
      "text/plain": [
       "WMD:\n",
       "MAXIMIZE\n",
       "0.9*T_matrix_('Illinois',_'Chicago') + 0.2*T_matrix_('Illinois',_'President') + 0.6*T_matrix_('Illinois',_'talk') + 0.1*T_matrix_('President',_'Chicago') + 0.9*T_matrix_('President',_'President') + 0.1*T_matrix_('President',_'talk') + 0.0\n",
       "SUBJECT TO\n",
       "_C1: T_matrix_('Illinois',_'President') + T_matrix_('President',_'President')\n",
       " = 0.333333333333\n",
       "\n",
       "_C2: T_matrix_('Illinois',_'talk') + T_matrix_('President',_'talk')\n",
       " = 0.333333333333\n",
       "\n",
       "_C3: T_matrix_('Illinois',_'Chicago') + T_matrix_('President',_'Chicago')\n",
       " = 0.333333333333\n",
       "\n",
       "_C4: T_matrix_('President',_'Chicago') + T_matrix_('President',_'President')\n",
       " + T_matrix_('President',_'talk') = 0.5\n",
       "\n",
       "_C5: T_matrix_('Illinois',_'Chicago') + T_matrix_('Illinois',_'President')\n",
       " + T_matrix_('Illinois',_'talk') = 0.5\n",
       "\n",
       "VARIABLES\n",
       "T_matrix_('Illinois',_'Chicago') Continuous\n",
       "T_matrix_('Illinois',_'President') Continuous\n",
       "T_matrix_('Illinois',_'talk') Continuous\n",
       "T_matrix_('President',_'Chicago') Continuous\n",
       "T_matrix_('President',_'President') Continuous\n",
       "T_matrix_('President',_'talk') Continuous"
      ]
     },
     "execution_count": 71,
     "metadata": {},
     "output_type": "execute_result"
    }
   ],
   "source": []
  },
  {
   "cell_type": "code",
   "execution_count": null,
   "metadata": {},
   "outputs": [],
   "source": []
  }
 ],
 "metadata": {
  "kernelspec": {
   "display_name": "Python 3.7.6 64-bit",
   "language": "python",
   "name": "python37664bit967cac9fa53840f787bb6da7f10861a1"
  },
  "language_info": {
   "codemirror_mode": {
    "name": "ipython",
    "version": 3
   },
   "file_extension": ".py",
   "mimetype": "text/x-python",
   "name": "python",
   "nbconvert_exporter": "python",
   "pygments_lexer": "ipython3",
   "version": "3.7.6"
  }
 },
 "nbformat": 4,
 "nbformat_minor": 4
}
