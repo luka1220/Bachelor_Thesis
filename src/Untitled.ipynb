{
 "cells": [
  {
   "cell_type": "code",
   "execution_count": 3,
   "metadata": {},
   "outputs": [],
   "source": [
    "%load_ext autoreload\n",
    "%autoreload 2\n",
    "import time\n",
    "from scipy.stats import pearsonr, spearmanr\n",
    "from igraph import Graph\n",
    "from dataset import Dataset, SentenceDataset, map_name\n",
    "import networkx as nx \n",
    "import numpy as np \n",
    "from analytics import DiGraph, DAC\n",
    "from connection import sparql_request\n",
    "import sparql\n",
    "from evaluation import WordSimEvaluation, SentenceSimEvaluation\n",
    "from similarity import ConceptSimilarity\n",
    "from wmd import WordMoversSimilarity\n",
    "from preprocessing import get_ideas_in_format"
   ]
  },
  {
   "cell_type": "code",
   "execution_count": 4,
   "metadata": {},
   "outputs": [],
   "source": [
    "SData = SentenceDataset()"
   ]
  },
  {
   "cell_type": "code",
   "execution_count": null,
   "metadata": {},
   "outputs": [],
   "source": []
  },
  {
   "cell_type": "code",
   "execution_count": 3,
   "metadata": {},
   "outputs": [],
   "source": [
    "pairs, sim = SData.load_i2m2018_ideas(map_name[\"environment\"])"
   ]
  },
  {
   "cell_type": "code",
   "execution_count": null,
   "metadata": {},
   "outputs": [],
   "source": []
  },
  {
   "cell_type": "code",
   "execution_count": 116,
   "metadata": {},
   "outputs": [
    {
     "name": "stdout",
     "output_type": "stream",
     "text": [
      "0\n"
     ]
    }
   ],
   "source": [
    "import csv \n",
    "a = [csv.get_dialect(d) for d in csv.list_dialects()]\n",
    "print(a[1].skipinitialspace)"
   ]
  },
  {
   "cell_type": "code",
   "execution_count": 97,
   "metadata": {},
   "outputs": [],
   "source": [
    "c, cc, texts = get_ideas_in_format(\"MSRvid\")\n",
    "test_cc = [[c_c[\"id\"] for c_c in c] for c in cc[:100]]\n"
   ]
  },
  {
   "cell_type": "code",
   "execution_count": 97,
   "metadata": {},
   "outputs": [
    {
     "name": "stdout",
     "output_type": "stream",
     "text": [
      "53.437784910202026\n"
     ]
    }
   ],
   "source": [
    "start = time.time()\n",
    "wmd2 = sen_e.WMD.sentenceSimilartyMatrix2(test_cc)\n",
    "print(time.time()-start)"
   ]
  },
  {
   "cell_type": "code",
   "execution_count": null,
   "metadata": {},
   "outputs": [],
   "source": []
  },
  {
   "cell_type": "code",
   "execution_count": 98,
   "metadata": {},
   "outputs": [
    {
     "name": "stdout",
     "output_type": "stream",
     "text": [
      "103.09588408470154\n"
     ]
    }
   ],
   "source": [
    "start = time.time()\n",
    "wmd = sen_e.WMD.sentenceSimilartyMatrix(test_cc)\n",
    "print(time.time()-start)"
   ]
  },
  {
   "cell_type": "code",
   "execution_count": 7,
   "metadata": {},
   "outputs": [
    {
     "name": "stdout",
     "output_type": "stream",
     "text": [
      "done calculation all shortest distance for: freq1\n",
      "True\n"
     ]
    }
   ],
   "source": [
    "sen_e = SentenceSimEvaluation()\n",
    "data = sen_e.compute_concept_sentence_M(dataset_name=\"gold\")"
   ]
  },
  {
   "cell_type": "code",
   "execution_count": 46,
   "metadata": {},
   "outputs": [
    {
     "name": "stdout",
     "output_type": "stream",
     "text": [
      "[Errno 2] No such file or directory: 'data/dbpedia/DiGraph_rel_ac1.gml'\n"
     ]
    }
   ],
   "source": [
    "dataset_name=\"ac1\"\n",
    "database=\"dbpedia\"\n",
    "metric=\"wpath\"\n",
    "lcs_pref_value=\"freq1\"\n",
    "relatedness=True\n",
    "concepts, cc, texts = get_ideas_in_format(dataset_name, database=database)\n",
    "KG = DAC(concepts=concepts, dataset=dataset_name, relatedness=relatedness, database=database)"
   ]
  },
  {
   "cell_type": "code",
   "execution_count": 33,
   "metadata": {},
   "outputs": [],
   "source": [
    "SM = WMD.sentenceSimilarityMatrix([[c[\"id\"] for c in bow] for bow in cc])"
   ]
  },
  {
   "cell_type": "code",
   "execution_count": null,
   "metadata": {},
   "outputs": [],
   "source": []
  },
  {
   "cell_type": "code",
   "execution_count": null,
   "metadata": {},
   "outputs": [],
   "source": []
  },
  {
   "cell_type": "code",
   "execution_count": 1,
   "metadata": {},
   "outputs": [
    {
     "ename": "NameError",
     "evalue": "name 'sen_e' is not defined",
     "output_type": "error",
     "traceback": [
      "\u001b[0;31m---------------------------------------------------------------------------\u001b[0m",
      "\u001b[0;31mNameError\u001b[0m                                 Traceback (most recent call last)",
      "\u001b[0;32m<ipython-input-1-8d88832cbe07>\u001b[0m in \u001b[0;36m<module>\u001b[0;34m\u001b[0m\n\u001b[0;32m----> 1\u001b[0;31m \u001b[0mdata\u001b[0m \u001b[0;34m=\u001b[0m \u001b[0msen_e\u001b[0m\u001b[0;34m.\u001b[0m\u001b[0mcompute_concept_sentence_M\u001b[0m\u001b[0;34m(\u001b[0m\u001b[0mdataset_name\u001b[0m\u001b[0;34m=\u001b[0m\u001b[0;34m\"ac1\"\u001b[0m\u001b[0;34m)\u001b[0m\u001b[0;34m\u001b[0m\u001b[0;34m\u001b[0m\u001b[0m\n\u001b[0m",
      "\u001b[0;31mNameError\u001b[0m: name 'sen_e' is not defined"
     ]
    }
   ],
   "source": []
  },
  {
   "cell_type": "code",
   "execution_count": 152,
   "metadata": {},
   "outputs": [
    {
     "name": "stdout",
     "output_type": "stream",
     "text": [
      "done calculation all shortest distance for: freq1\n",
      "Percent: 99.87%done calculation all shortest distance for: freq1\n",
      "Percent: 99.61%done calculation all shortest distance for: freq1\n",
      "Percent: 99.6%%done calculation all shortest distance for: freq1\n",
      "Percent: 99.6%%"
     ]
    },
    {
     "data": {
      "text/html": [
       "<div>\n",
       "<style scoped>\n",
       "    .dataframe tbody tr th:only-of-type {\n",
       "        vertical-align: middle;\n",
       "    }\n",
       "\n",
       "    .dataframe tbody tr th {\n",
       "        vertical-align: top;\n",
       "    }\n",
       "\n",
       "    .dataframe thead th {\n",
       "        text-align: right;\n",
       "    }\n",
       "</style>\n",
       "<table border=\"1\" class=\"dataframe\">\n",
       "  <thead>\n",
       "    <tr style=\"text-align: right;\">\n",
       "      <th></th>\n",
       "      <th>MSRvid</th>\n",
       "      <th>SmartTextile</th>\n",
       "      <th>MTurk</th>\n",
       "      <th>environment</th>\n",
       "    </tr>\n",
       "  </thead>\n",
       "  <tbody>\n",
       "    <tr>\n",
       "      <th>wpath</th>\n",
       "      <td>0.562303</td>\n",
       "      <td>0.442796</td>\n",
       "      <td>0.151933</td>\n",
       "      <td>0.145656</td>\n",
       "    </tr>\n",
       "  </tbody>\n",
       "</table>\n",
       "</div>"
      ],
      "text/plain": [
       "         MSRvid  SmartTextile     MTurk  environment\n",
       "wpath  0.562303      0.442796  0.151933     0.145656"
      ]
     },
     "metadata": {},
     "output_type": "display_data"
    }
   ],
   "source": [
    "con = sen_e.evaluate_all_sentence_datasets()"
   ]
  },
  {
   "cell_type": "code",
   "execution_count": 12,
   "metadata": {},
   "outputs": [
    {
     "name": "stdout",
     "output_type": "stream",
     "text": [
      "done calculation all shortest distance for: freq1\n",
      "Percent: 3.14%I can't think of anything else, sorry. You could make sturdier smart phones and tablets with this material. Since it is fabric, it would not crack as easily and it should be more water proof. \n",
      "Percent: 3.53%I can't think of anything else, sorry.  Signs and pennants for display at baseball games\n",
      "Percent: 99.61%"
     ]
    }
   ],
   "source": [
    "con = sen_e.evaluate_sentence_similarity(dataset_name=\"SmartTextile\", database=\"babelnet\")"
   ]
  },
  {
   "cell_type": "code",
   "execution_count": 8,
   "metadata": {},
   "outputs": [
    {
     "data": {
      "text/plain": [
       "0.3060111249950837"
      ]
     },
     "execution_count": 8,
     "metadata": {},
     "output_type": "execute_result"
    }
   ],
   "source": [
    "con"
   ]
  },
  {
   "cell_type": "code",
   "execution_count": 6,
   "metadata": {},
   "outputs": [
    {
     "data": {
      "text/plain": [
       "0.3060111249950837"
      ]
     },
     "execution_count": 6,
     "metadata": {},
     "output_type": "execute_result"
    }
   ],
   "source": [
    "con"
   ]
  },
  {
   "cell_type": "code",
   "execution_count": 160,
   "metadata": {},
   "outputs": [
    {
     "data": {
      "text/plain": [
       "0.2533386903006289"
      ]
     },
     "execution_count": 160,
     "metadata": {},
     "output_type": "execute_result"
    }
   ],
   "source": [
    "con"
   ]
  },
  {
   "cell_type": "code",
   "execution_count": 162,
   "metadata": {},
   "outputs": [
    {
     "data": {
      "text/plain": [
       "0.10826393247694885"
      ]
     },
     "execution_count": 162,
     "metadata": {},
     "output_type": "execute_result"
    }
   ],
   "source": [
    "con"
   ]
  },
  {
   "cell_type": "code",
   "execution_count": 160,
   "metadata": {},
   "outputs": [
    {
     "name": "stdout",
     "output_type": "stream",
     "text": [
      "done calculation all shortest distance\n"
     ]
    },
    {
     "data": {
      "text/plain": [
       "0.801"
      ]
     },
     "execution_count": 160,
     "metadata": {},
     "output_type": "execute_result"
    }
   ],
   "source": [
    "ws_e = WordSimEvaluation()\n",
    "ws_e.evaluate_metric(\"wpath_graph\", \"noun_rg\", ic_func=\"ic_graph_global\", relatedness=True, save_results=True)"
   ]
  },
  {
   "cell_type": "code",
   "execution_count": 15,
   "metadata": {},
   "outputs": [
    {
     "data": {
      "text/html": [
       "<div>\n",
       "<style scoped>\n",
       "    .dataframe tbody tr th:only-of-type {\n",
       "        vertical-align: middle;\n",
       "    }\n",
       "\n",
       "    .dataframe tbody tr th {\n",
       "        vertical-align: top;\n",
       "    }\n",
       "\n",
       "    .dataframe thead th {\n",
       "        text-align: right;\n",
       "    }\n",
       "</style>\n",
       "<table border=\"1\" class=\"dataframe\">\n",
       "  <thead>\n",
       "    <tr style=\"text-align: right;\">\n",
       "      <th></th>\n",
       "      <th>0.1</th>\n",
       "      <th>0.2</th>\n",
       "      <th>0.3</th>\n",
       "      <th>0.4</th>\n",
       "      <th>0.5</th>\n",
       "      <th>0.6</th>\n",
       "      <th>0.7</th>\n",
       "      <th>0.8</th>\n",
       "      <th>0.9</th>\n",
       "      <th>1.0</th>\n",
       "    </tr>\n",
       "  </thead>\n",
       "  <tbody>\n",
       "    <tr>\n",
       "      <th>noun_simlex</th>\n",
       "      <td>0.483</td>\n",
       "      <td>0.517</td>\n",
       "      <td>0.56</td>\n",
       "      <td>0.578</td>\n",
       "      <td>0.586</td>\n",
       "      <td>0.592</td>\n",
       "      <td>0.598</td>\n",
       "      <td>0.602</td>\n",
       "      <td>0.601</td>\n",
       "      <td>0.584</td>\n",
       "    </tr>\n",
       "  </tbody>\n",
       "</table>\n",
       "</div>"
      ],
      "text/plain": [
       "               0.1    0.2   0.3    0.4    0.5    0.6    0.7    0.8    0.9  \\\n",
       "noun_simlex  0.483  0.517  0.56  0.578  0.586  0.592  0.598  0.602  0.601   \n",
       "\n",
       "               1.0  \n",
       "noun_simlex  0.584  "
      ]
     },
     "metadata": {},
     "output_type": "display_data"
    }
   ],
   "source": [
    "#ws_e = WordSimEvaluation()\n",
    "ws_e.evaluate_wpath_k(\"wn_wpath\", \"noun_simlex\", display_table=True)"
   ]
  },
  {
   "cell_type": "code",
   "execution_count": 1416,
   "metadata": {},
   "outputs": [
    {
     "name": "stdout",
     "output_type": "stream",
     "text": [
      "done calculation all shortest distance for: freq1\n"
     ]
    },
    {
     "data": {
      "text/html": [
       "<div>\n",
       "<style scoped>\n",
       "    .dataframe tbody tr th:only-of-type {\n",
       "        vertical-align: middle;\n",
       "    }\n",
       "\n",
       "    .dataframe tbody tr th {\n",
       "        vertical-align: top;\n",
       "    }\n",
       "\n",
       "    .dataframe thead th {\n",
       "        text-align: right;\n",
       "    }\n",
       "</style>\n",
       "<table border=\"1\" class=\"dataframe\">\n",
       "  <thead>\n",
       "    <tr style=\"text-align: right;\">\n",
       "      <th></th>\n",
       "      <th>0.1</th>\n",
       "      <th>0.2</th>\n",
       "      <th>0.3</th>\n",
       "      <th>0.4</th>\n",
       "      <th>0.5</th>\n",
       "      <th>0.6</th>\n",
       "      <th>0.7</th>\n",
       "      <th>0.8</th>\n",
       "      <th>0.9</th>\n",
       "      <th>1.0</th>\n",
       "    </tr>\n",
       "  </thead>\n",
       "  <tbody>\n",
       "    <tr>\n",
       "      <th>noun_rg</th>\n",
       "      <td>0.657</td>\n",
       "      <td>0.737</td>\n",
       "      <td>0.765</td>\n",
       "      <td>0.771</td>\n",
       "      <td>0.778</td>\n",
       "      <td>0.779</td>\n",
       "      <td>0.785</td>\n",
       "      <td>0.79</td>\n",
       "      <td>0.795</td>\n",
       "      <td>0.791</td>\n",
       "    </tr>\n",
       "  </tbody>\n",
       "</table>\n",
       "</div>"
      ],
      "text/plain": [
       "           0.1    0.2    0.3    0.4    0.5    0.6    0.7   0.8    0.9    1.0\n",
       "noun_rg  0.657  0.737  0.765  0.771  0.778  0.779  0.785  0.79  0.795  0.791"
      ]
     },
     "metadata": {},
     "output_type": "display_data"
    }
   ],
   "source": [
    "ws_e = WordSimEvaluation()\n",
    "ws_e.evaluate_wpath_k(\"wpath_graph\", \"noun_rg\",lcs_pref_value=\"freq1\", ic_func=\"ic_graph_local\", display_table=True)"
   ]
  },
  {
   "cell_type": "code",
   "execution_count": 17,
   "metadata": {},
   "outputs": [
    {
     "name": "stdout",
     "output_type": "stream",
     "text": [
      "done calculation all shortest distance\n"
     ]
    },
    {
     "data": {
      "text/html": [
       "<div>\n",
       "<style scoped>\n",
       "    .dataframe tbody tr th:only-of-type {\n",
       "        vertical-align: middle;\n",
       "    }\n",
       "\n",
       "    .dataframe tbody tr th {\n",
       "        vertical-align: top;\n",
       "    }\n",
       "\n",
       "    .dataframe thead th {\n",
       "        text-align: right;\n",
       "    }\n",
       "</style>\n",
       "<table border=\"1\" class=\"dataframe\">\n",
       "  <thead>\n",
       "    <tr style=\"text-align: right;\">\n",
       "      <th></th>\n",
       "      <th>0.1</th>\n",
       "      <th>0.2</th>\n",
       "      <th>0.3</th>\n",
       "      <th>0.4</th>\n",
       "      <th>0.5</th>\n",
       "      <th>0.6</th>\n",
       "      <th>0.7</th>\n",
       "      <th>0.8</th>\n",
       "      <th>0.9</th>\n",
       "      <th>1.0</th>\n",
       "    </tr>\n",
       "  </thead>\n",
       "  <tbody>\n",
       "    <tr>\n",
       "      <th>noun_rg</th>\n",
       "      <td>0.737</td>\n",
       "      <td>0.739</td>\n",
       "      <td>0.77</td>\n",
       "      <td>0.78</td>\n",
       "      <td>0.787</td>\n",
       "      <td>0.786</td>\n",
       "      <td>0.791</td>\n",
       "      <td>0.789</td>\n",
       "      <td>0.793</td>\n",
       "      <td>0.781</td>\n",
       "    </tr>\n",
       "  </tbody>\n",
       "</table>\n",
       "</div>"
      ],
      "text/plain": [
       "           0.1    0.2   0.3   0.4    0.5    0.6    0.7    0.8    0.9    1.0\n",
       "noun_rg  0.737  0.739  0.77  0.78  0.787  0.786  0.791  0.789  0.793  0.781"
      ]
     },
     "metadata": {},
     "output_type": "display_data"
    }
   ],
   "source": [
    "#ws_e = WordSimEvaluation()\n",
    "ws_e.evaluate_wpath_k(\"wn_wpath\", \"noun_rg\", display_table=True)"
   ]
  },
  {
   "cell_type": "code",
   "execution_count": 1423,
   "metadata": {},
   "outputs": [
    {
     "name": "stdout",
     "output_type": "stream",
     "text": [
      "done calculation all shortest distance for: freq\n"
     ]
    },
    {
     "data": {
      "text/plain": [
       "[0.267, 0.319, 0.341, 0.358, 0.368, 0.38, 0.393, 0.408, 0.419, 0.426]"
      ]
     },
     "execution_count": 1423,
     "metadata": {},
     "output_type": "execute_result"
    }
   ],
   "source": [
    "ws_e = WordSimEvaluation()\n",
    "ws_e.evaluate_wpath_k(\"wpath_graph\", \"noun_simlex\", lcs_pref_value=\"freq\", ic_func=\"ic_graph_local\", icfqvalue=\"freq1\")"
   ]
  },
  {
   "cell_type": "code",
   "execution_count": 1345,
   "metadata": {},
   "outputs": [
    {
     "data": {
      "text/html": [
       "<div>\n",
       "<style scoped>\n",
       "    .dataframe tbody tr th:only-of-type {\n",
       "        vertical-align: middle;\n",
       "    }\n",
       "\n",
       "    .dataframe tbody tr th {\n",
       "        vertical-align: top;\n",
       "    }\n",
       "\n",
       "    .dataframe thead th {\n",
       "        text-align: right;\n",
       "    }\n",
       "</style>\n",
       "<table border=\"1\" class=\"dataframe\">\n",
       "  <thead>\n",
       "    <tr style=\"text-align: right;\">\n",
       "      <th></th>\n",
       "      <th>0.1</th>\n",
       "      <th>0.2</th>\n",
       "      <th>0.3</th>\n",
       "      <th>0.4</th>\n",
       "      <th>0.5</th>\n",
       "      <th>0.6</th>\n",
       "      <th>0.7</th>\n",
       "      <th>0.8</th>\n",
       "      <th>0.9</th>\n",
       "      <th>1.0</th>\n",
       "    </tr>\n",
       "  </thead>\n",
       "  <tbody>\n",
       "    <tr>\n",
       "      <th>noun_ws353-sim</th>\n",
       "      <td>0.553</td>\n",
       "      <td>0.601</td>\n",
       "      <td>0.629</td>\n",
       "      <td>0.636</td>\n",
       "      <td>0.642</td>\n",
       "      <td>0.646</td>\n",
       "      <td>0.649</td>\n",
       "      <td>0.653</td>\n",
       "      <td>0.648</td>\n",
       "      <td>0.613</td>\n",
       "    </tr>\n",
       "  </tbody>\n",
       "</table>\n",
       "</div>"
      ],
      "text/plain": [
       "                  0.1    0.2    0.3    0.4  ...    0.7    0.8    0.9    1.0\n",
       "noun_ws353-sim  0.553  0.601  0.629  0.636  ...  0.649  0.653  0.648  0.613\n",
       "\n",
       "[1 rows x 10 columns]"
      ]
     },
     "metadata": {},
     "output_type": "display_data"
    }
   ],
   "source": [
    "ws_e.evaluate_wpath_k(\"wpath_graph\", \"noun_ws353-sim\", lcs_pref=True, ic_func=\"ic_graph_local\")"
   ]
  },
  {
   "cell_type": "code",
   "execution_count": 1350,
   "metadata": {},
   "outputs": [
    {
     "name": "stdout",
     "output_type": "stream",
     "text": [
      "done calculation all shortest distance local\n"
     ]
    },
    {
     "data": {
      "text/html": [
       "<div>\n",
       "<style scoped>\n",
       "    .dataframe tbody tr th:only-of-type {\n",
       "        vertical-align: middle;\n",
       "    }\n",
       "\n",
       "    .dataframe tbody tr th {\n",
       "        vertical-align: top;\n",
       "    }\n",
       "\n",
       "    .dataframe thead th {\n",
       "        text-align: right;\n",
       "    }\n",
       "</style>\n",
       "<table border=\"1\" class=\"dataframe\">\n",
       "  <thead>\n",
       "    <tr style=\"text-align: right;\">\n",
       "      <th></th>\n",
       "      <th>0.1</th>\n",
       "      <th>0.2</th>\n",
       "      <th>0.3</th>\n",
       "      <th>0.4</th>\n",
       "      <th>0.5</th>\n",
       "      <th>0.6</th>\n",
       "      <th>0.7</th>\n",
       "      <th>0.8</th>\n",
       "      <th>0.9</th>\n",
       "      <th>1.0</th>\n",
       "    </tr>\n",
       "  </thead>\n",
       "  <tbody>\n",
       "    <tr>\n",
       "      <th>noun_ws353-sim</th>\n",
       "      <td>0.552</td>\n",
       "      <td>0.599</td>\n",
       "      <td>0.627</td>\n",
       "      <td>0.634</td>\n",
       "      <td>0.64</td>\n",
       "      <td>0.644</td>\n",
       "      <td>0.646</td>\n",
       "      <td>0.652</td>\n",
       "      <td>0.648</td>\n",
       "      <td>0.614</td>\n",
       "    </tr>\n",
       "  </tbody>\n",
       "</table>\n",
       "</div>"
      ],
      "text/plain": [
       "                  0.1    0.2    0.3    0.4  ...    0.7    0.8    0.9    1.0\n",
       "noun_ws353-sim  0.552  0.599  0.627  0.634  ...  0.646  0.652  0.648  0.614\n",
       "\n",
       "[1 rows x 10 columns]"
      ]
     },
     "metadata": {},
     "output_type": "display_data"
    }
   ],
   "source": [
    "ws_e = WordSimEvaluation()\n",
    "ws_e.evaluate_wpath_k(\"wpath_graph\", \"noun_ws353-sim\", lcs_pref=True, ic_func=\"ic_graph_local\")"
   ]
  },
  {
   "cell_type": "code",
   "execution_count": null,
   "metadata": {},
   "outputs": [],
   "source": []
  },
  {
   "cell_type": "code",
   "execution_count": null,
   "metadata": {},
   "outputs": [],
   "source": []
  },
  {
   "cell_type": "code",
   "execution_count": null,
   "metadata": {},
   "outputs": [],
   "source": []
  },
  {
   "cell_type": "code",
   "execution_count": 1312,
   "metadata": {},
   "outputs": [
    {
     "name": "stdout",
     "output_type": "stream",
     "text": [
      "done calculation all shortest distance local\n"
     ]
    },
    {
     "data": {
      "text/html": [
       "<div>\n",
       "<style scoped>\n",
       "    .dataframe tbody tr th:only-of-type {\n",
       "        vertical-align: middle;\n",
       "    }\n",
       "\n",
       "    .dataframe tbody tr th {\n",
       "        vertical-align: top;\n",
       "    }\n",
       "\n",
       "    .dataframe thead th {\n",
       "        text-align: right;\n",
       "    }\n",
       "</style>\n",
       "<table border=\"1\" class=\"dataframe\">\n",
       "  <thead>\n",
       "    <tr style=\"text-align: right;\">\n",
       "      <th></th>\n",
       "      <th>0.1</th>\n",
       "      <th>0.2</th>\n",
       "      <th>0.3</th>\n",
       "      <th>0.4</th>\n",
       "      <th>0.5</th>\n",
       "      <th>0.6</th>\n",
       "      <th>0.7</th>\n",
       "      <th>0.8</th>\n",
       "      <th>0.9</th>\n",
       "      <th>1.0</th>\n",
       "    </tr>\n",
       "  </thead>\n",
       "  <tbody>\n",
       "    <tr>\n",
       "      <th>noun_rg</th>\n",
       "      <td>0.376</td>\n",
       "      <td>0.551</td>\n",
       "      <td>0.627</td>\n",
       "      <td>0.657</td>\n",
       "      <td>0.715</td>\n",
       "      <td>0.734</td>\n",
       "      <td>0.747</td>\n",
       "      <td>0.759</td>\n",
       "      <td>0.787</td>\n",
       "      <td>0.791</td>\n",
       "    </tr>\n",
       "  </tbody>\n",
       "</table>\n",
       "</div>"
      ],
      "text/plain": [
       "           0.1    0.2    0.3    0.4    0.5    0.6    0.7    0.8    0.9    1.0\n",
       "noun_rg  0.376  0.551  0.627  0.657  0.715  0.734  0.747  0.759  0.787  0.791"
      ]
     },
     "metadata": {},
     "output_type": "display_data"
    }
   ],
   "source": [
    "ws_e = WordSimEvaluation()\n",
    "ws_e.evaluate_wpath_k(\"wpath_graph\", \"noun_rg\", lcs_pref=True, ic_func=\"ic_graph_global\", icfqvalue=\"freq1\")"
   ]
  },
  {
   "cell_type": "code",
   "execution_count": null,
   "metadata": {},
   "outputs": [],
   "source": []
  },
  {
   "cell_type": "code",
   "execution_count": 1315,
   "metadata": {},
   "outputs": [
    {
     "data": {
      "text/html": [
       "<div>\n",
       "<style scoped>\n",
       "    .dataframe tbody tr th:only-of-type {\n",
       "        vertical-align: middle;\n",
       "    }\n",
       "\n",
       "    .dataframe tbody tr th {\n",
       "        vertical-align: top;\n",
       "    }\n",
       "\n",
       "    .dataframe thead th {\n",
       "        text-align: right;\n",
       "    }\n",
       "</style>\n",
       "<table border=\"1\" class=\"dataframe\">\n",
       "  <thead>\n",
       "    <tr style=\"text-align: right;\">\n",
       "      <th></th>\n",
       "      <th>0.1</th>\n",
       "      <th>0.2</th>\n",
       "      <th>0.3</th>\n",
       "      <th>0.4</th>\n",
       "      <th>0.5</th>\n",
       "      <th>0.6</th>\n",
       "      <th>0.7</th>\n",
       "      <th>0.8</th>\n",
       "      <th>0.9</th>\n",
       "      <th>1.0</th>\n",
       "    </tr>\n",
       "  </thead>\n",
       "  <tbody>\n",
       "    <tr>\n",
       "      <th>noun_rg</th>\n",
       "      <td>0.657</td>\n",
       "      <td>0.737</td>\n",
       "      <td>0.765</td>\n",
       "      <td>0.771</td>\n",
       "      <td>0.778</td>\n",
       "      <td>0.779</td>\n",
       "      <td>0.785</td>\n",
       "      <td>0.79</td>\n",
       "      <td>0.795</td>\n",
       "      <td>0.791</td>\n",
       "    </tr>\n",
       "  </tbody>\n",
       "</table>\n",
       "</div>"
      ],
      "text/plain": [
       "           0.1    0.2    0.3    0.4    0.5    0.6    0.7   0.8    0.9    1.0\n",
       "noun_rg  0.657  0.737  0.765  0.771  0.778  0.779  0.785  0.79  0.795  0.791"
      ]
     },
     "metadata": {},
     "output_type": "display_data"
    }
   ],
   "source": [
    "ws_e = WordSimEvaluation()\n",
    "ws_e.evaluate_wpath_k(\"wpath_graph\", \"noun_rg\", lcs_pref=True, ic_func=\"ic_graph_local\") #choosing the lcs by global ic, but calculating it by local ic "
   ]
  },
  {
   "cell_type": "code",
   "execution_count": 1322,
   "metadata": {},
   "outputs": [
    {
     "name": "stdout",
     "output_type": "stream",
     "text": [
      "done calculation all shortest distance local\n"
     ]
    },
    {
     "data": {
      "text/html": [
       "<div>\n",
       "<style scoped>\n",
       "    .dataframe tbody tr th:only-of-type {\n",
       "        vertical-align: middle;\n",
       "    }\n",
       "\n",
       "    .dataframe tbody tr th {\n",
       "        vertical-align: top;\n",
       "    }\n",
       "\n",
       "    .dataframe thead th {\n",
       "        text-align: right;\n",
       "    }\n",
       "</style>\n",
       "<table border=\"1\" class=\"dataframe\">\n",
       "  <thead>\n",
       "    <tr style=\"text-align: right;\">\n",
       "      <th></th>\n",
       "      <th>0.1</th>\n",
       "      <th>0.2</th>\n",
       "      <th>0.3</th>\n",
       "      <th>0.4</th>\n",
       "      <th>0.5</th>\n",
       "      <th>0.6</th>\n",
       "      <th>0.7</th>\n",
       "      <th>0.8</th>\n",
       "      <th>0.9</th>\n",
       "      <th>1.0</th>\n",
       "    </tr>\n",
       "  </thead>\n",
       "  <tbody>\n",
       "    <tr>\n",
       "      <th>noun_rg</th>\n",
       "      <td>0.609</td>\n",
       "      <td>0.707</td>\n",
       "      <td>0.733</td>\n",
       "      <td>0.739</td>\n",
       "      <td>0.748</td>\n",
       "      <td>0.753</td>\n",
       "      <td>0.76</td>\n",
       "      <td>0.762</td>\n",
       "      <td>0.761</td>\n",
       "      <td>0.758</td>\n",
       "    </tr>\n",
       "  </tbody>\n",
       "</table>\n",
       "</div>"
      ],
      "text/plain": [
       "           0.1    0.2    0.3    0.4    0.5    0.6   0.7    0.8    0.9    1.0\n",
       "noun_rg  0.609  0.707  0.733  0.739  0.748  0.753  0.76  0.762  0.761  0.758"
      ]
     },
     "metadata": {},
     "output_type": "display_data"
    }
   ],
   "source": [
    "ws_e = WordSimEvaluation()\n",
    "ws_e.evaluate_wpath_k(\"wpath_graph\", \"noun_rg\", lcs_pref=True, ic_func=\"ic_graph_local\") "
   ]
  },
  {
   "cell_type": "code",
   "execution_count": 1327,
   "metadata": {},
   "outputs": [
    {
     "name": "stdout",
     "output_type": "stream",
     "text": [
      "done calculation all shortest distance\n"
     ]
    },
    {
     "data": {
      "text/html": [
       "<div>\n",
       "<style scoped>\n",
       "    .dataframe tbody tr th:only-of-type {\n",
       "        vertical-align: middle;\n",
       "    }\n",
       "\n",
       "    .dataframe tbody tr th {\n",
       "        vertical-align: top;\n",
       "    }\n",
       "\n",
       "    .dataframe thead th {\n",
       "        text-align: right;\n",
       "    }\n",
       "</style>\n",
       "<table border=\"1\" class=\"dataframe\">\n",
       "  <thead>\n",
       "    <tr style=\"text-align: right;\">\n",
       "      <th></th>\n",
       "      <th>0.1</th>\n",
       "      <th>0.2</th>\n",
       "      <th>0.3</th>\n",
       "      <th>0.4</th>\n",
       "      <th>0.5</th>\n",
       "      <th>0.6</th>\n",
       "      <th>0.7</th>\n",
       "      <th>0.8</th>\n",
       "      <th>0.9</th>\n",
       "      <th>1.0</th>\n",
       "    </tr>\n",
       "  </thead>\n",
       "  <tbody>\n",
       "    <tr>\n",
       "      <th>noun_rg</th>\n",
       "      <td>0.603</td>\n",
       "      <td>0.71</td>\n",
       "      <td>0.737</td>\n",
       "      <td>0.743</td>\n",
       "      <td>0.747</td>\n",
       "      <td>0.752</td>\n",
       "      <td>0.76</td>\n",
       "      <td>0.768</td>\n",
       "      <td>0.767</td>\n",
       "      <td>0.76</td>\n",
       "    </tr>\n",
       "  </tbody>\n",
       "</table>\n",
       "</div>"
      ],
      "text/plain": [
       "           0.1   0.2    0.3    0.4    0.5    0.6   0.7    0.8    0.9   1.0\n",
       "noun_rg  0.603  0.71  0.737  0.743  0.747  0.752  0.76  0.768  0.767  0.76"
      ]
     },
     "metadata": {},
     "output_type": "display_data"
    }
   ],
   "source": [
    "ws_e = WordSimEvaluation()\n",
    "ws_e.evaluate_wpath_k(\"wpath_graph\", \"noun_rg\", lcs_pref=False, ic_func=\"ic_graph_local\") "
   ]
  },
  {
   "cell_type": "code",
   "execution_count": 1442,
   "metadata": {},
   "outputs": [
    {
     "name": "stdout",
     "output_type": "stream",
     "text": [
      "done calculation all shortest distance for: freq1\n"
     ]
    },
    {
     "data": {
      "text/html": [
       "<div>\n",
       "<style scoped>\n",
       "    .dataframe tbody tr th:only-of-type {\n",
       "        vertical-align: middle;\n",
       "    }\n",
       "\n",
       "    .dataframe tbody tr th {\n",
       "        vertical-align: top;\n",
       "    }\n",
       "\n",
       "    .dataframe thead th {\n",
       "        text-align: right;\n",
       "    }\n",
       "</style>\n",
       "<table border=\"1\" class=\"dataframe\">\n",
       "  <thead>\n",
       "    <tr style=\"text-align: right;\">\n",
       "      <th></th>\n",
       "      <th>0.80</th>\n",
       "      <th>0.82</th>\n",
       "      <th>0.84</th>\n",
       "      <th>0.86</th>\n",
       "      <th>0.88</th>\n",
       "      <th>0.90</th>\n",
       "      <th>0.92</th>\n",
       "      <th>0.94</th>\n",
       "      <th>0.96</th>\n",
       "      <th>0.98</th>\n",
       "      <th>1.00</th>\n",
       "    </tr>\n",
       "  </thead>\n",
       "  <tbody>\n",
       "    <tr>\n",
       "      <th>noun_ws353-sim</th>\n",
       "      <td>0.627</td>\n",
       "      <td>0.629</td>\n",
       "      <td>0.633</td>\n",
       "      <td>0.636</td>\n",
       "      <td>0.64</td>\n",
       "      <td>0.646</td>\n",
       "      <td>0.647</td>\n",
       "      <td>0.646</td>\n",
       "      <td>0.644</td>\n",
       "      <td>0.636</td>\n",
       "      <td>0.613</td>\n",
       "    </tr>\n",
       "  </tbody>\n",
       "</table>\n",
       "</div>"
      ],
      "text/plain": [
       "                 0.80   0.82   0.84   0.86  ...   0.94   0.96   0.98   1.00\n",
       "noun_ws353-sim  0.627  0.629  0.633  0.636  ...  0.646  0.644  0.636  0.613\n",
       "\n",
       "[1 rows x 11 columns]"
      ]
     },
     "metadata": {},
     "output_type": "display_data"
    }
   ],
   "source": [
    "#ws_e = WordSimEvaluation()\n",
    "ws_e.evaluate_wpath_k(\"wpath_graph\", \"noun_ws353-sim\", lcs_pref_value=\"freq1\", ic_func=\"ic_graph_global\", icfqvalue=\"freq1\", display_table=True, range_k=[k/50 for k in range(40,51)])"
   ]
  },
  {
   "cell_type": "code",
   "execution_count": 1338,
   "metadata": {},
   "outputs": [
    {
     "data": {
      "text/html": [
       "<div>\n",
       "<style scoped>\n",
       "    .dataframe tbody tr th:only-of-type {\n",
       "        vertical-align: middle;\n",
       "    }\n",
       "\n",
       "    .dataframe tbody tr th {\n",
       "        vertical-align: top;\n",
       "    }\n",
       "\n",
       "    .dataframe thead th {\n",
       "        text-align: right;\n",
       "    }\n",
       "</style>\n",
       "<table border=\"1\" class=\"dataframe\">\n",
       "  <thead>\n",
       "    <tr style=\"text-align: right;\">\n",
       "      <th></th>\n",
       "      <th>0.1</th>\n",
       "      <th>0.2</th>\n",
       "      <th>0.3</th>\n",
       "      <th>0.4</th>\n",
       "      <th>0.5</th>\n",
       "      <th>0.6</th>\n",
       "      <th>0.7</th>\n",
       "      <th>0.8</th>\n",
       "      <th>0.9</th>\n",
       "      <th>1.0</th>\n",
       "    </tr>\n",
       "  </thead>\n",
       "  <tbody>\n",
       "    <tr>\n",
       "      <th>noun_mc</th>\n",
       "      <td>0.665</td>\n",
       "      <td>0.763</td>\n",
       "      <td>0.824</td>\n",
       "      <td>0.826</td>\n",
       "      <td>0.835</td>\n",
       "      <td>0.852</td>\n",
       "      <td>0.854</td>\n",
       "      <td>0.852</td>\n",
       "      <td>0.846</td>\n",
       "      <td>0.827</td>\n",
       "    </tr>\n",
       "  </tbody>\n",
       "</table>\n",
       "</div>"
      ],
      "text/plain": [
       "           0.1    0.2    0.3    0.4    0.5    0.6    0.7    0.8    0.9    1.0\n",
       "noun_mc  0.665  0.763  0.824  0.826  0.835  0.852  0.854  0.852  0.846  0.827"
      ]
     },
     "metadata": {},
     "output_type": "display_data"
    }
   ],
   "source": [
    "\n",
    "ws_e.evaluate_wpath_k(\"wpath_graph\", \"noun_mc\", lcs_pref=True, ic_func=\"ic_graph_local\")"
   ]
  },
  {
   "cell_type": "code",
   "execution_count": 1339,
   "metadata": {},
   "outputs": [
    {
     "name": "stdout",
     "output_type": "stream",
     "text": [
      "done calculation all shortest distance local\n"
     ]
    },
    {
     "data": {
      "text/html": [
       "<div>\n",
       "<style scoped>\n",
       "    .dataframe tbody tr th:only-of-type {\n",
       "        vertical-align: middle;\n",
       "    }\n",
       "\n",
       "    .dataframe tbody tr th {\n",
       "        vertical-align: top;\n",
       "    }\n",
       "\n",
       "    .dataframe thead th {\n",
       "        text-align: right;\n",
       "    }\n",
       "</style>\n",
       "<table border=\"1\" class=\"dataframe\">\n",
       "  <thead>\n",
       "    <tr style=\"text-align: right;\">\n",
       "      <th></th>\n",
       "      <th>0.1</th>\n",
       "      <th>0.2</th>\n",
       "      <th>0.3</th>\n",
       "      <th>0.4</th>\n",
       "      <th>0.5</th>\n",
       "      <th>0.6</th>\n",
       "      <th>0.7</th>\n",
       "      <th>0.8</th>\n",
       "      <th>0.9</th>\n",
       "      <th>1.0</th>\n",
       "    </tr>\n",
       "  </thead>\n",
       "  <tbody>\n",
       "    <tr>\n",
       "      <th>noun_mc</th>\n",
       "      <td>0.659</td>\n",
       "      <td>0.762</td>\n",
       "      <td>0.825</td>\n",
       "      <td>0.826</td>\n",
       "      <td>0.836</td>\n",
       "      <td>0.852</td>\n",
       "      <td>0.854</td>\n",
       "      <td>0.849</td>\n",
       "      <td>0.846</td>\n",
       "      <td>0.826</td>\n",
       "    </tr>\n",
       "  </tbody>\n",
       "</table>\n",
       "</div>"
      ],
      "text/plain": [
       "           0.1    0.2    0.3    0.4    0.5    0.6    0.7    0.8    0.9    1.0\n",
       "noun_mc  0.659  0.762  0.825  0.826  0.836  0.852  0.854  0.849  0.846  0.826"
      ]
     },
     "metadata": {},
     "output_type": "display_data"
    }
   ],
   "source": [
    "ws_e = WordSimEvaluation()\n",
    "ws_e.evaluate_wpath_k(\"wpath_graph\", \"noun_mc\", lcs_pref=True, ic_func=\"ic_graph_local\")"
   ]
  },
  {
   "cell_type": "code",
   "execution_count": 30,
   "metadata": {},
   "outputs": [
    {
     "name": "stderr",
     "output_type": "stream",
     "text": [
      "SystemError: <class 'UnicodeDecodeError'> returned a result with an error set\n"
     ]
    },
    {
     "name": "stdout",
     "output_type": "stream",
     "text": [
      "done calculation all shortest distance\n"
     ]
    },
    {
     "data": {
      "text/html": [
       "<div>\n",
       "<style scoped>\n",
       "    .dataframe tbody tr th:only-of-type {\n",
       "        vertical-align: middle;\n",
       "    }\n",
       "\n",
       "    .dataframe tbody tr th {\n",
       "        vertical-align: top;\n",
       "    }\n",
       "\n",
       "    .dataframe thead th {\n",
       "        text-align: right;\n",
       "    }\n",
       "</style>\n",
       "<table border=\"1\" class=\"dataframe\">\n",
       "  <thead>\n",
       "    <tr style=\"text-align: right;\">\n",
       "      <th></th>\n",
       "      <th>0.1</th>\n",
       "      <th>0.2</th>\n",
       "      <th>0.3</th>\n",
       "      <th>0.4</th>\n",
       "      <th>0.5</th>\n",
       "      <th>0.6</th>\n",
       "      <th>0.7</th>\n",
       "      <th>0.8</th>\n",
       "      <th>0.9</th>\n",
       "      <th>1.0</th>\n",
       "    </tr>\n",
       "  </thead>\n",
       "  <tbody>\n",
       "    <tr>\n",
       "      <th>noun_ws353</th>\n",
       "      <td>0.307</td>\n",
       "      <td>0.314</td>\n",
       "      <td>0.335</td>\n",
       "      <td>0.331</td>\n",
       "      <td>0.332</td>\n",
       "      <td>0.335</td>\n",
       "      <td>0.338</td>\n",
       "      <td>0.341</td>\n",
       "      <td>0.35</td>\n",
       "      <td>0.332</td>\n",
       "    </tr>\n",
       "  </tbody>\n",
       "</table>\n",
       "</div>"
      ],
      "text/plain": [
       "              0.1    0.2    0.3    0.4    0.5    0.6    0.7    0.8   0.9  \\\n",
       "noun_ws353  0.307  0.314  0.335  0.331  0.332  0.335  0.338  0.341  0.35   \n",
       "\n",
       "              1.0  \n",
       "noun_ws353  0.332  "
      ]
     },
     "metadata": {},
     "output_type": "display_data"
    }
   ],
   "source": [
    "ws_e = WordSimEvaluation()\n",
    "ws_e.evaluate_wpath_k(\"wpath_graph\", \"noun_ws353\", ic_func=\"ic_graph_global\",relatedness=True, display_table=True)"
   ]
  },
  {
   "cell_type": "code",
   "execution_count": 22,
   "metadata": {},
   "outputs": [
    {
     "name": "stderr",
     "output_type": "stream",
     "text": [
      "SystemError: <class 'UnicodeDecodeError'> returned a result with an error set\n"
     ]
    },
    {
     "name": "stdout",
     "output_type": "stream",
     "text": [
      "done calculation all shortest distance\n"
     ]
    },
    {
     "data": {
      "text/html": [
       "<div>\n",
       "<style scoped>\n",
       "    .dataframe tbody tr th:only-of-type {\n",
       "        vertical-align: middle;\n",
       "    }\n",
       "\n",
       "    .dataframe tbody tr th {\n",
       "        vertical-align: top;\n",
       "    }\n",
       "\n",
       "    .dataframe thead th {\n",
       "        text-align: right;\n",
       "    }\n",
       "</style>\n",
       "<table border=\"1\" class=\"dataframe\">\n",
       "  <thead>\n",
       "    <tr style=\"text-align: right;\">\n",
       "      <th></th>\n",
       "      <th>0.1</th>\n",
       "      <th>0.2</th>\n",
       "      <th>0.3</th>\n",
       "      <th>0.4</th>\n",
       "      <th>0.5</th>\n",
       "      <th>0.6</th>\n",
       "      <th>0.7</th>\n",
       "      <th>0.8</th>\n",
       "      <th>0.9</th>\n",
       "      <th>1.0</th>\n",
       "    </tr>\n",
       "  </thead>\n",
       "  <tbody>\n",
       "    <tr>\n",
       "      <th>noun_simlex</th>\n",
       "      <td>0.321</td>\n",
       "      <td>0.353</td>\n",
       "      <td>0.365</td>\n",
       "      <td>0.372</td>\n",
       "      <td>0.385</td>\n",
       "      <td>0.399</td>\n",
       "      <td>0.408</td>\n",
       "      <td>0.419</td>\n",
       "      <td>0.438</td>\n",
       "      <td>0.439</td>\n",
       "    </tr>\n",
       "  </tbody>\n",
       "</table>\n",
       "</div>"
      ],
      "text/plain": [
       "               0.1    0.2    0.3    0.4    0.5    0.6    0.7    0.8    0.9  \\\n",
       "noun_simlex  0.321  0.353  0.365  0.372  0.385  0.399  0.408  0.419  0.438   \n",
       "\n",
       "               1.0  \n",
       "noun_simlex  0.439  "
      ]
     },
     "metadata": {},
     "output_type": "display_data"
    }
   ],
   "source": [
    "ws_e.evaluate_wpath_k(\"wpath_graph\", \"noun_simlex\", ic_func=\"ic_graph_global\", relatedness=True, display_table=True)"
   ]
  },
  {
   "cell_type": "code",
   "execution_count": 7,
   "metadata": {},
   "outputs": [
    {
     "name": "stderr",
     "output_type": "stream",
     "text": [
      "SystemError: <class 'UnicodeDecodeError'> returned a result with an error set\n"
     ]
    },
    {
     "name": "stdout",
     "output_type": "stream",
     "text": [
      "done calculation all shortest distance\n"
     ]
    },
    {
     "data": {
      "text/html": [
       "<div>\n",
       "<style scoped>\n",
       "    .dataframe tbody tr th:only-of-type {\n",
       "        vertical-align: middle;\n",
       "    }\n",
       "\n",
       "    .dataframe tbody tr th {\n",
       "        vertical-align: top;\n",
       "    }\n",
       "\n",
       "    .dataframe thead th {\n",
       "        text-align: right;\n",
       "    }\n",
       "</style>\n",
       "<table border=\"1\" class=\"dataframe\">\n",
       "  <thead>\n",
       "    <tr style=\"text-align: right;\">\n",
       "      <th></th>\n",
       "      <th>0.1</th>\n",
       "      <th>0.2</th>\n",
       "      <th>0.3</th>\n",
       "      <th>0.4</th>\n",
       "      <th>0.5</th>\n",
       "      <th>0.6</th>\n",
       "      <th>0.7</th>\n",
       "      <th>0.8</th>\n",
       "      <th>0.9</th>\n",
       "      <th>1.0</th>\n",
       "    </tr>\n",
       "  </thead>\n",
       "  <tbody>\n",
       "    <tr>\n",
       "      <th>noun_rg</th>\n",
       "      <td>0.665</td>\n",
       "      <td>0.726</td>\n",
       "      <td>0.735</td>\n",
       "      <td>0.74</td>\n",
       "      <td>0.777</td>\n",
       "      <td>0.79</td>\n",
       "      <td>0.794</td>\n",
       "      <td>0.797</td>\n",
       "      <td>0.802</td>\n",
       "      <td>0.795</td>\n",
       "    </tr>\n",
       "  </tbody>\n",
       "</table>\n",
       "</div>"
      ],
      "text/plain": [
       "           0.1    0.2    0.3   0.4    0.5   0.6    0.7    0.8    0.9    1.0\n",
       "noun_rg  0.665  0.726  0.735  0.74  0.777  0.79  0.794  0.797  0.802  0.795"
      ]
     },
     "metadata": {},
     "output_type": "display_data"
    }
   ],
   "source": [
    "ws_e = WordSimEvaluation()\n",
    "ws_e.evaluate_wpath_k(\"wpath_graph\", \"noun_rg\", ic_func=\"ic_graph_global\", relatedness=True, display_table=True)"
   ]
  },
  {
   "cell_type": "code",
   "execution_count": 1378,
   "metadata": {},
   "outputs": [
    {
     "name": "stdout",
     "output_type": "stream",
     "text": [
      "done calculation all shortest distance for: freq\n",
      "done calculation all shortest distance for: freq\n",
      "done calculation all shortest distance for: freq\n",
      "done calculation all shortest distance for: freq\n",
      "done calculation all shortest distance for: freq\n"
     ]
    },
    {
     "data": {
      "text/html": [
       "<div>\n",
       "<style scoped>\n",
       "    .dataframe tbody tr th:only-of-type {\n",
       "        vertical-align: middle;\n",
       "    }\n",
       "\n",
       "    .dataframe tbody tr th {\n",
       "        vertical-align: top;\n",
       "    }\n",
       "\n",
       "    .dataframe thead th {\n",
       "        text-align: right;\n",
       "    }\n",
       "</style>\n",
       "<table border=\"1\" class=\"dataframe\">\n",
       "  <thead>\n",
       "    <tr style=\"text-align: right;\">\n",
       "      <th></th>\n",
       "      <th>path</th>\n",
       "      <th>wpath_graph</th>\n",
       "      <th>res</th>\n",
       "      <th>lin</th>\n",
       "      <th>jcn</th>\n",
       "    </tr>\n",
       "  </thead>\n",
       "  <tbody>\n",
       "    <tr>\n",
       "      <th>noun_rg</th>\n",
       "      <td>0.758</td>\n",
       "      <td>0.762</td>\n",
       "      <td>0.677</td>\n",
       "      <td>0.740</td>\n",
       "      <td>0.737</td>\n",
       "    </tr>\n",
       "    <tr>\n",
       "      <th>noun_mc</th>\n",
       "      <td>0.826</td>\n",
       "      <td>0.849</td>\n",
       "      <td>0.729</td>\n",
       "      <td>0.806</td>\n",
       "      <td>0.815</td>\n",
       "    </tr>\n",
       "    <tr>\n",
       "      <th>noun_ws353</th>\n",
       "      <td>0.302</td>\n",
       "      <td>0.338</td>\n",
       "      <td>0.367</td>\n",
       "      <td>0.378</td>\n",
       "      <td>0.331</td>\n",
       "    </tr>\n",
       "    <tr>\n",
       "      <th>noun_ws353-sim</th>\n",
       "      <td>0.614</td>\n",
       "      <td>0.652</td>\n",
       "      <td>0.559</td>\n",
       "      <td>0.593</td>\n",
       "      <td>0.600</td>\n",
       "    </tr>\n",
       "    <tr>\n",
       "      <th>noun_simlex</th>\n",
       "      <td>0.426</td>\n",
       "      <td>0.408</td>\n",
       "      <td>0.297</td>\n",
       "      <td>0.347</td>\n",
       "      <td>0.404</td>\n",
       "    </tr>\n",
       "  </tbody>\n",
       "</table>\n",
       "</div>"
      ],
      "text/plain": [
       "                 path  wpath_graph    res    lin    jcn\n",
       "noun_rg         0.758        0.762  0.677  0.740  0.737\n",
       "noun_mc         0.826        0.849  0.729  0.806  0.815\n",
       "noun_ws353      0.302        0.338  0.367  0.378  0.331\n",
       "noun_ws353-sim  0.614        0.652  0.559  0.593  0.600\n",
       "noun_simlex     0.426        0.408  0.297  0.347  0.404"
      ]
     },
     "metadata": {},
     "output_type": "display_data"
    }
   ],
   "source": [
    "#ws_e = WordSimEvaluation()\n",
    "metrics = [\"path\", \"wpath_graph\",\"res\", \"lin\", \"jcn\"]\n",
    "ws_e.evaluate_datasets_metrics(metrics, ws_e.dataset_names,  lcs_pref_value=\"freq\", ic_func=\"ic_graph_local\", display_table=True)\n"
   ]
  },
  {
   "cell_type": "code",
   "execution_count": 104,
   "metadata": {},
   "outputs": [
    {
     "name": "stdout",
     "output_type": "stream",
     "text": [
      "done calculation all shortest distance for: freq1\n",
      "done calculation all shortest distance for: freq1\n",
      "done calculation all shortest distance for: freq1\n",
      "done calculation all shortest distance for: freq1\n",
      "done calculation all shortest distance for: freq1\n"
     ]
    },
    {
     "data": {
      "text/html": [
       "<div>\n",
       "<style scoped>\n",
       "    .dataframe tbody tr th:only-of-type {\n",
       "        vertical-align: middle;\n",
       "    }\n",
       "\n",
       "    .dataframe tbody tr th {\n",
       "        vertical-align: top;\n",
       "    }\n",
       "\n",
       "    .dataframe thead th {\n",
       "        text-align: right;\n",
       "    }\n",
       "</style>\n",
       "<table border=\"1\" class=\"dataframe\">\n",
       "  <thead>\n",
       "    <tr style=\"text-align: right;\">\n",
       "      <th></th>\n",
       "      <th>noun_rg</th>\n",
       "      <th>noun_mc</th>\n",
       "      <th>noun_ws353</th>\n",
       "      <th>noun_ws353-sim</th>\n",
       "      <th>noun_simlex</th>\n",
       "    </tr>\n",
       "  </thead>\n",
       "  <tbody>\n",
       "    <tr>\n",
       "      <th>path</th>\n",
       "      <td>0.756</td>\n",
       "      <td>0.869</td>\n",
       "      <td>0.299</td>\n",
       "      <td>0.587</td>\n",
       "      <td>0.412</td>\n",
       "    </tr>\n",
       "    <tr>\n",
       "      <th>wpath_graph</th>\n",
       "      <td>0.775</td>\n",
       "      <td>0.862</td>\n",
       "      <td>0.336</td>\n",
       "      <td>0.630</td>\n",
       "      <td>0.415</td>\n",
       "    </tr>\n",
       "    <tr>\n",
       "      <th>res</th>\n",
       "      <td>0.680</td>\n",
       "      <td>0.770</td>\n",
       "      <td>0.335</td>\n",
       "      <td>0.523</td>\n",
       "      <td>0.287</td>\n",
       "    </tr>\n",
       "    <tr>\n",
       "      <th>lin</th>\n",
       "      <td>0.739</td>\n",
       "      <td>0.835</td>\n",
       "      <td>0.349</td>\n",
       "      <td>0.581</td>\n",
       "      <td>0.340</td>\n",
       "    </tr>\n",
       "    <tr>\n",
       "      <th>jcn</th>\n",
       "      <td>0.742</td>\n",
       "      <td>0.830</td>\n",
       "      <td>0.309</td>\n",
       "      <td>0.582</td>\n",
       "      <td>0.383</td>\n",
       "    </tr>\n",
       "  </tbody>\n",
       "</table>\n",
       "</div>"
      ],
      "text/plain": [
       "             noun_rg  noun_mc  noun_ws353  noun_ws353-sim  noun_simlex\n",
       "path           0.756    0.869       0.299           0.587        0.412\n",
       "wpath_graph    0.775    0.862       0.336           0.630        0.415\n",
       "res            0.680    0.770       0.335           0.523        0.287\n",
       "lin            0.739    0.835       0.349           0.581        0.340\n",
       "jcn            0.742    0.830       0.309           0.582        0.383"
      ]
     },
     "metadata": {},
     "output_type": "display_data"
    }
   ],
   "source": [
    "ws_e = WordSimEvaluation()\n",
    "metrics = [\"path\", \"wpath_graph\",\"res\", \"lin\", \"jcn\"]\n",
    "ws_e.evaluate_datasets_metrics(metrics, ws_e.dataset_names,  lcs_pref_value=\"freq1\", ic_func=\"ic_graph_local\", display_table=True)"
   ]
  },
  {
   "cell_type": "code",
   "execution_count": 36,
   "metadata": {},
   "outputs": [
    {
     "data": {
      "text/html": [
       "<div>\n",
       "<style scoped>\n",
       "    .dataframe tbody tr th:only-of-type {\n",
       "        vertical-align: middle;\n",
       "    }\n",
       "\n",
       "    .dataframe tbody tr th {\n",
       "        vertical-align: top;\n",
       "    }\n",
       "\n",
       "    .dataframe thead th {\n",
       "        text-align: right;\n",
       "    }\n",
       "</style>\n",
       "<table border=\"1\" class=\"dataframe\">\n",
       "  <thead>\n",
       "    <tr style=\"text-align: right;\">\n",
       "      <th></th>\n",
       "      <th>noun_rg</th>\n",
       "      <th>noun_mc</th>\n",
       "      <th>noun_ws353</th>\n",
       "      <th>noun_ws353-sim</th>\n",
       "      <th>noun_simlex</th>\n",
       "    </tr>\n",
       "  </thead>\n",
       "  <tbody>\n",
       "    <tr>\n",
       "      <th>path</th>\n",
       "      <td>0.795</td>\n",
       "      <td>0.908</td>\n",
       "      <td>0.332</td>\n",
       "      <td>0.643</td>\n",
       "      <td>0.419</td>\n",
       "    </tr>\n",
       "    <tr>\n",
       "      <th>wpath_graph</th>\n",
       "      <td>0.802</td>\n",
       "      <td>0.905</td>\n",
       "      <td>0.350</td>\n",
       "      <td>0.666</td>\n",
       "      <td>0.425</td>\n",
       "    </tr>\n",
       "    <tr>\n",
       "      <th>res</th>\n",
       "      <td>0.738</td>\n",
       "      <td>0.872</td>\n",
       "      <td>0.370</td>\n",
       "      <td>0.558</td>\n",
       "      <td>0.299</td>\n",
       "    </tr>\n",
       "    <tr>\n",
       "      <th>lin</th>\n",
       "      <td>0.796</td>\n",
       "      <td>0.897</td>\n",
       "      <td>0.365</td>\n",
       "      <td>0.585</td>\n",
       "      <td>0.347</td>\n",
       "    </tr>\n",
       "    <tr>\n",
       "      <th>jcn</th>\n",
       "      <td>0.816</td>\n",
       "      <td>0.871</td>\n",
       "      <td>0.289</td>\n",
       "      <td>0.531</td>\n",
       "      <td>0.365</td>\n",
       "    </tr>\n",
       "  </tbody>\n",
       "</table>\n",
       "</div>"
      ],
      "text/plain": [
       "             noun_rg  noun_mc  noun_ws353  noun_ws353-sim  noun_simlex\n",
       "path           0.795    0.908       0.332           0.643        0.419\n",
       "wpath_graph    0.802    0.905       0.350           0.666        0.425\n",
       "res            0.738    0.872       0.370           0.558        0.299\n",
       "lin            0.796    0.897       0.365           0.585        0.347\n",
       "jcn            0.816    0.871       0.289           0.531        0.365"
      ]
     },
     "metadata": {},
     "output_type": "display_data"
    }
   ],
   "source": [
    "#ws_e = WordSimEvaluation()\n",
    "metrics = [\"path\", \"wpath_graph\", \"res\", \"lin\", \"jcn\"]\n",
    "ws_e.evaluate_datasets_metrics(metrics, ws_e.dataset_names, ic_func=\"ic_graph_global\", k=0.9, relatedness=True, display_table=True)"
   ]
  },
  {
   "cell_type": "code",
   "execution_count": 29,
   "metadata": {},
   "outputs": [
    {
     "name": "stderr",
     "output_type": "stream",
     "text": [
      "SystemError: <class 'UnicodeDecodeError'> returned a result with an error set\n"
     ]
    },
    {
     "name": "stdout",
     "output_type": "stream",
     "text": [
      "done calculation all shortest distance\n"
     ]
    },
    {
     "name": "stderr",
     "output_type": "stream",
     "text": [
      "SystemError: <class 'UnicodeDecodeError'> returned a result with an error set\n"
     ]
    },
    {
     "name": "stdout",
     "output_type": "stream",
     "text": [
      "done calculation all shortest distance\n"
     ]
    },
    {
     "name": "stderr",
     "output_type": "stream",
     "text": [
      "SystemError: <class 'UnicodeDecodeError'> returned a result with an error set\n"
     ]
    },
    {
     "name": "stdout",
     "output_type": "stream",
     "text": [
      "done calculation all shortest distance\n"
     ]
    },
    {
     "name": "stderr",
     "output_type": "stream",
     "text": [
      "SystemError: <class 'UnicodeDecodeError'> returned a result with an error set\n"
     ]
    },
    {
     "name": "stdout",
     "output_type": "stream",
     "text": [
      "done calculation all shortest distance\n"
     ]
    },
    {
     "data": {
      "text/html": [
       "<div>\n",
       "<style scoped>\n",
       "    .dataframe tbody tr th:only-of-type {\n",
       "        vertical-align: middle;\n",
       "    }\n",
       "\n",
       "    .dataframe tbody tr th {\n",
       "        vertical-align: top;\n",
       "    }\n",
       "\n",
       "    .dataframe thead th {\n",
       "        text-align: right;\n",
       "    }\n",
       "</style>\n",
       "<table border=\"1\" class=\"dataframe\">\n",
       "  <thead>\n",
       "    <tr style=\"text-align: right;\">\n",
       "      <th></th>\n",
       "      <th>noun_rg</th>\n",
       "      <th>noun_mc</th>\n",
       "      <th>noun_ws353</th>\n",
       "      <th>noun_ws353-sim</th>\n",
       "    </tr>\n",
       "  </thead>\n",
       "  <tbody>\n",
       "    <tr>\n",
       "      <th>path</th>\n",
       "      <td>0.795</td>\n",
       "      <td>0.908</td>\n",
       "      <td>0.332</td>\n",
       "      <td>0.643</td>\n",
       "    </tr>\n",
       "    <tr>\n",
       "      <th>wpath_graph</th>\n",
       "      <td>0.802</td>\n",
       "      <td>0.905</td>\n",
       "      <td>0.350</td>\n",
       "      <td>0.665</td>\n",
       "    </tr>\n",
       "  </tbody>\n",
       "</table>\n",
       "</div>"
      ],
      "text/plain": [
       "             noun_rg  noun_mc  noun_ws353  noun_ws353-sim\n",
       "path           0.795    0.908       0.332           0.643\n",
       "wpath_graph    0.802    0.905       0.350           0.665"
      ]
     },
     "metadata": {},
     "output_type": "display_data"
    }
   ],
   "source": [
    "metrics = [\"path\", \"wpath_graph\"]\n",
    "ws_e.evaluate_datasets_metrics(metrics, ws_e.dataset_names, ic_func=\"ic_graph_global\", k=0.9, relatedness=True, display_table=True)"
   ]
  },
  {
   "cell_type": "code",
   "execution_count": 1374,
   "metadata": {},
   "outputs": [
    {
     "name": "stdout",
     "output_type": "stream",
     "text": [
      "done calculation all shortest distance for: freq1\n",
      "done calculation all shortest distance for: freq1\n",
      "done calculation all shortest distance for: freq1\n",
      "done calculation all shortest distance for: freq1\n",
      "done calculation all shortest distance for: freq1\n"
     ]
    },
    {
     "data": {
      "text/html": [
       "<div>\n",
       "<style scoped>\n",
       "    .dataframe tbody tr th:only-of-type {\n",
       "        vertical-align: middle;\n",
       "    }\n",
       "\n",
       "    .dataframe tbody tr th {\n",
       "        vertical-align: top;\n",
       "    }\n",
       "\n",
       "    .dataframe thead th {\n",
       "        text-align: right;\n",
       "    }\n",
       "</style>\n",
       "<table border=\"1\" class=\"dataframe\">\n",
       "  <thead>\n",
       "    <tr style=\"text-align: right;\">\n",
       "      <th></th>\n",
       "      <th>path</th>\n",
       "      <th>wpath_graph</th>\n",
       "      <th>res</th>\n",
       "      <th>lin</th>\n",
       "      <th>jcn</th>\n",
       "    </tr>\n",
       "  </thead>\n",
       "  <tbody>\n",
       "    <tr>\n",
       "      <th>noun_rg</th>\n",
       "      <td>0.791</td>\n",
       "      <td>0.790</td>\n",
       "      <td>0.691</td>\n",
       "      <td>0.756</td>\n",
       "      <td>0.752</td>\n",
       "    </tr>\n",
       "    <tr>\n",
       "      <th>noun_mc</th>\n",
       "      <td>0.827</td>\n",
       "      <td>0.852</td>\n",
       "      <td>0.737</td>\n",
       "      <td>0.811</td>\n",
       "      <td>0.818</td>\n",
       "    </tr>\n",
       "    <tr>\n",
       "      <th>noun_ws353</th>\n",
       "      <td>0.303</td>\n",
       "      <td>0.340</td>\n",
       "      <td>0.365</td>\n",
       "      <td>0.376</td>\n",
       "      <td>0.329</td>\n",
       "    </tr>\n",
       "    <tr>\n",
       "      <th>noun_ws353-sim</th>\n",
       "      <td>0.613</td>\n",
       "      <td>0.653</td>\n",
       "      <td>0.559</td>\n",
       "      <td>0.593</td>\n",
       "      <td>0.599</td>\n",
       "    </tr>\n",
       "    <tr>\n",
       "      <th>noun_simlex</th>\n",
       "      <td>0.419</td>\n",
       "      <td>0.405</td>\n",
       "      <td>0.299</td>\n",
       "      <td>0.349</td>\n",
       "      <td>0.405</td>\n",
       "    </tr>\n",
       "  </tbody>\n",
       "</table>\n",
       "</div>"
      ],
      "text/plain": [
       "                 path  wpath_graph    res    lin    jcn\n",
       "noun_rg         0.791        0.790  0.691  0.756  0.752\n",
       "noun_mc         0.827        0.852  0.737  0.811  0.818\n",
       "noun_ws353      0.303        0.340  0.365  0.376  0.329\n",
       "noun_ws353-sim  0.613        0.653  0.559  0.593  0.599\n",
       "noun_simlex     0.419        0.405  0.299  0.349  0.405"
      ]
     },
     "metadata": {},
     "output_type": "display_data"
    }
   ],
   "source": [
    "\n",
    "metrics = [\"path\", \"wpath_graph\",\"res\", \"lin\", \"jcn\"]\n",
    "ws_e.evaluate_datasets_metrics(metrics, ws_e.dataset_names,  lcs_pref_value=\"freq1\", ic_func=\"ic_graph_local\", display_table=True)\n"
   ]
  },
  {
   "cell_type": "code",
   "execution_count": 37,
   "metadata": {},
   "outputs": [
    {
     "data": {
      "text/html": [
       "<div>\n",
       "<style scoped>\n",
       "    .dataframe tbody tr th:only-of-type {\n",
       "        vertical-align: middle;\n",
       "    }\n",
       "\n",
       "    .dataframe tbody tr th {\n",
       "        vertical-align: top;\n",
       "    }\n",
       "\n",
       "    .dataframe thead th {\n",
       "        text-align: right;\n",
       "    }\n",
       "</style>\n",
       "<table border=\"1\" class=\"dataframe\">\n",
       "  <thead>\n",
       "    <tr style=\"text-align: right;\">\n",
       "      <th></th>\n",
       "      <th>noun_rg</th>\n",
       "      <th>noun_mc</th>\n",
       "      <th>noun_ws353</th>\n",
       "      <th>noun_ws353-sim</th>\n",
       "      <th>noun_simlex</th>\n",
       "    </tr>\n",
       "  </thead>\n",
       "  <tbody>\n",
       "    <tr>\n",
       "      <th>k=0.1</th>\n",
       "      <td>0.665</td>\n",
       "      <td>0.817</td>\n",
       "      <td>0.307</td>\n",
       "      <td>0.559</td>\n",
       "      <td>0.322</td>\n",
       "    </tr>\n",
       "    <tr>\n",
       "      <th>k=0.2</th>\n",
       "      <td>0.726</td>\n",
       "      <td>0.872</td>\n",
       "      <td>0.314</td>\n",
       "      <td>0.569</td>\n",
       "      <td>0.332</td>\n",
       "    </tr>\n",
       "    <tr>\n",
       "      <th>k=0.3</th>\n",
       "      <td>0.735</td>\n",
       "      <td>0.885</td>\n",
       "      <td>0.335</td>\n",
       "      <td>0.615</td>\n",
       "      <td>0.350</td>\n",
       "    </tr>\n",
       "    <tr>\n",
       "      <th>k=0.4</th>\n",
       "      <td>0.740</td>\n",
       "      <td>0.877</td>\n",
       "      <td>0.331</td>\n",
       "      <td>0.629</td>\n",
       "      <td>0.352</td>\n",
       "    </tr>\n",
       "    <tr>\n",
       "      <th>k=0.5</th>\n",
       "      <td>0.777</td>\n",
       "      <td>0.881</td>\n",
       "      <td>0.332</td>\n",
       "      <td>0.631</td>\n",
       "      <td>0.363</td>\n",
       "    </tr>\n",
       "    <tr>\n",
       "      <th>k=0.6</th>\n",
       "      <td>0.790</td>\n",
       "      <td>0.894</td>\n",
       "      <td>0.335</td>\n",
       "      <td>0.636</td>\n",
       "      <td>0.376</td>\n",
       "    </tr>\n",
       "    <tr>\n",
       "      <th>k=0.7</th>\n",
       "      <td>0.794</td>\n",
       "      <td>0.889</td>\n",
       "      <td>0.338</td>\n",
       "      <td>0.641</td>\n",
       "      <td>0.387</td>\n",
       "    </tr>\n",
       "    <tr>\n",
       "      <th>k=0.8</th>\n",
       "      <td>0.797</td>\n",
       "      <td>0.893</td>\n",
       "      <td>0.341</td>\n",
       "      <td>0.649</td>\n",
       "      <td>0.401</td>\n",
       "    </tr>\n",
       "    <tr>\n",
       "      <th>k=0.9</th>\n",
       "      <td>0.802</td>\n",
       "      <td>0.905</td>\n",
       "      <td>0.350</td>\n",
       "      <td>0.666</td>\n",
       "      <td>0.425</td>\n",
       "    </tr>\n",
       "    <tr>\n",
       "      <th>k=1.0</th>\n",
       "      <td>0.795</td>\n",
       "      <td>0.908</td>\n",
       "      <td>0.332</td>\n",
       "      <td>0.643</td>\n",
       "      <td>0.419</td>\n",
       "    </tr>\n",
       "  </tbody>\n",
       "</table>\n",
       "</div>"
      ],
      "text/plain": [
       "       noun_rg  noun_mc  noun_ws353  noun_ws353-sim  noun_simlex\n",
       "k=0.1    0.665    0.817       0.307           0.559        0.322\n",
       "k=0.2    0.726    0.872       0.314           0.569        0.332\n",
       "k=0.3    0.735    0.885       0.335           0.615        0.350\n",
       "k=0.4    0.740    0.877       0.331           0.629        0.352\n",
       "k=0.5    0.777    0.881       0.332           0.631        0.363\n",
       "k=0.6    0.790    0.894       0.335           0.636        0.376\n",
       "k=0.7    0.794    0.889       0.338           0.641        0.387\n",
       "k=0.8    0.797    0.893       0.341           0.649        0.401\n",
       "k=0.9    0.802    0.905       0.350           0.666        0.425\n",
       "k=1.0    0.795    0.908       0.332           0.643        0.419"
      ]
     },
     "metadata": {},
     "output_type": "display_data"
    }
   ],
   "source": [
    "ws_e.evaluate_datasets_wpath_k(\"wpath_graph\", ws_e.dataset_names, display_table=True, ic_func=\"ic_graph_global\", relatedness=True)"
   ]
  },
  {
   "cell_type": "code",
   "execution_count": null,
   "metadata": {},
   "outputs": [],
   "source": []
  },
  {
   "cell_type": "code",
   "execution_count": null,
   "metadata": {},
   "outputs": [],
   "source": []
  },
  {
   "cell_type": "code",
   "execution_count": 1304,
   "metadata": {},
   "outputs": [
    {
     "data": {
      "text/plain": [
       "(6451444.0, 12757522.0, 12757522.0)"
      ]
     },
     "execution_count": 1304,
     "metadata": {},
     "output_type": "execute_result"
    }
   ],
   "source": [
    "DAC_mc.freq_by_value(\"Q5\", value=\"freq1\"), DAC_mc.freq_by_value(ConSim.entity, value=\"freq1\"), DAC_mc.freq_by_value(\"Q35120\", value=\"freq1\")"
   ]
  },
  {
   "cell_type": "code",
   "execution_count": 609,
   "metadata": {},
   "outputs": [
    {
     "name": "stdout",
     "output_type": "stream",
     "text": [
      "8 Synset('entity.n.01')\n",
      "6.257652972013772 0.8017591149538994 -0.0\n"
     ]
    }
   ],
   "source": [
    "dog, cat = ConSim.word2synset(\"abstraction\")[0], ConSim.word2synset(\"physical_entity\")[0]\n",
    "path = dog.shortest_path_distance(cat)\n",
    "lcs = dog.lowest_common_hypernyms(cat)[0]\n",
    "\n",
    "print(path, lcs)\n",
    "print(*map(ConSim.ic_corpus_synset, [dog, cat, lcs]))\n"
   ]
  },
  {
   "cell_type": "code",
   "execution_count": 1138,
   "metadata": {},
   "outputs": [
    {
     "name": "stdout",
     "output_type": "stream",
     "text": [
      "['6451005', '186'] 6450928 0.6785049438476562 0.7148110866546631\n"
     ]
    }
   ],
   "source": [
    "import time\n",
    "lcs = \"Q5\"\n",
    "q2 = sparql.number_of(lcs, \"wdt:P31\")\n",
    "s = time.time()\n",
    "r2 = sparql_request(q2)[0][\"count\"][\"value\"]\n",
    "e1 = time.time()-s\n",
    "s = time.time()\n",
    "r1 = []\n",
    "for p in [\"wdt:P31\", \"wdt:P279\"]:\n",
    "    q1 = sparql.number_of(lcs, p)\n",
    "    r = sparql_request(q1)\n",
    "    if(not r is None):\n",
    "        r1.append(r[0][\"count\"][\"value\"])\n",
    "e2 = time.time()-s\n",
    "\n",
    "print(r1, r2, e1, e2)"
   ]
  },
  {
   "cell_type": "code",
   "execution_count": 957,
   "metadata": {},
   "outputs": [],
   "source": [
    "dataset = Dataset()\n",
    "d = dataset.load_dataset_json(\"gold_concepts\", \"data/wikidata\")"
   ]
  },
  {
   "cell_type": "code",
   "execution_count": 1330,
   "metadata": {},
   "outputs": [
    {
     "name": "stdout",
     "output_type": "stream",
     "text": [
      "0.13 quality | 0.0 oracle | oracle sage 2.61\n",
      "0.095 property | 0.0 travel | car journey 1.55\n",
      "0.166 group of physical objects | 0.24 geographic location | forest graveyard 1.0\n",
      "0.095 concept | 0.0 smile | grin lad 0.88\n",
      "0.087 concrete object | 0.0 cushion | cushion jewel 0.45\n",
      "0.137 group of physical objects | 0.32 building | graveyard madhouse 0.44\n",
      "0.127 service | 0.175 legal concept | asylum monk 0.39\n",
      "0.127 service | 0.139 work | asylum fruit 0.19\n",
      "0.086 product | 0.0 smile | grin implement 0.18\n",
      "0.08 concept | 0.0 noon | noon string 0.04\n",
      "0.114 absence | 0.193 Wikidata metaclass | rooster voyage 0.04\n"
     ]
    }
   ],
   "source": [
    "d1, d2 = dataset.load_dataset_json(\"noun_rg_wpath_graph\")[\"similarities\"], dataset.load_dataset_json(\"noun_rg_wpath_graph_local\")[\"similarities\"]\n",
    "for i1, i2 in zip(d1, d2):\n",
    "    if i1[2] != i2[2]:\n",
    "        print(i1[0],i1[2],\"|\",i2[0],i2[2], \"|\", *i1[1])"
   ]
  },
  {
   "cell_type": "code",
   "execution_count": null,
   "metadata": {},
   "outputs": [],
   "source": []
  },
  {
   "cell_type": "code",
   "execution_count": null,
   "metadata": {},
   "outputs": [],
   "source": []
  },
  {
   "cell_type": "code",
   "execution_count": null,
   "metadata": {},
   "outputs": [],
   "source": []
  },
  {
   "cell_type": "code",
   "execution_count": null,
   "metadata": {},
   "outputs": [],
   "source": []
  },
  {
   "cell_type": "code",
   "execution_count": 1276,
   "metadata": {},
   "outputs": [],
   "source": [
    "DAC_mc = DAC(dataset=\"noun_mc\")\n",
    "DiGr_mc = DiGraph(dataset=\"noun_mc\")"
   ]
  },
  {
   "cell_type": "code",
   "execution_count": 1351,
   "metadata": {},
   "outputs": [
    {
     "name": "stdout",
     "output_type": "stream",
     "text": [
      "Percent: 100.0% Worte to file: data/wikidata/DiGraph_noun_ws353.gml\n"
     ]
    }
   ],
   "source": [
    "gra3 = DiGraph(dataset=\"noun_ws353\")\n",
    "gra3.global_secondorder_freq()"
   ]
  },
  {
   "cell_type": "code",
   "execution_count": 1332,
   "metadata": {},
   "outputs": [
    {
     "data": {
      "text/plain": [
       "4.672828834461907"
      ]
     },
     "execution_count": 1332,
     "metadata": {},
     "output_type": "execute_result"
    }
   ],
   "source": [
    "ConSim.ic_graph_local(\"Q5\")"
   ]
  },
  {
   "cell_type": "code",
   "execution_count": null,
   "metadata": {},
   "outputs": [],
   "source": []
  },
  {
   "cell_type": "code",
   "execution_count": null,
   "metadata": {},
   "outputs": [],
   "source": []
  },
  {
   "cell_type": "code",
   "execution_count": 469,
   "metadata": {},
   "outputs": [
    {
     "name": "stdout",
     "output_type": "stream",
     "text": [
      "Percent: 1.08%"
     ]
    },
    {
     "name": "stderr",
     "output_type": "stream",
     "text": [
      "[autoreload of analytics failed: Traceback (most recent call last):\n",
      "  File \"/Users/lukastaerk/Library/Python/3.7/lib/python/site-packages/IPython/extensions/autoreload.py\", line 245, in check\n",
      "    superreload(m, reload, self.old_objects)\n",
      "  File \"/Users/lukastaerk/Library/Python/3.7/lib/python/site-packages/IPython/extensions/autoreload.py\", line 410, in superreload\n",
      "    update_generic(old_obj, new_obj)\n",
      "  File \"/Users/lukastaerk/Library/Python/3.7/lib/python/site-packages/IPython/extensions/autoreload.py\", line 347, in update_generic\n",
      "    update(a, b)\n",
      "  File \"/Users/lukastaerk/Library/Python/3.7/lib/python/site-packages/IPython/extensions/autoreload.py\", line 302, in update_class\n",
      "    if update_generic(old_obj, new_obj): continue\n",
      "  File \"/Users/lukastaerk/Library/Python/3.7/lib/python/site-packages/IPython/extensions/autoreload.py\", line 347, in update_generic\n",
      "    update(a, b)\n",
      "  File \"/Users/lukastaerk/Library/Python/3.7/lib/python/site-packages/IPython/extensions/autoreload.py\", line 266, in update_function\n",
      "    setattr(old, name, getattr(new, name))\n",
      "ValueError: __init__() requires a code object with 0 free vars, not 1\n",
      "]\n"
     ]
    },
    {
     "name": "stdout",
     "output_type": "stream",
     "text": [
      "Percent: 100.0%"
     ]
    }
   ],
   "source": [
    "DG.build_nx_graph(conc)"
   ]
  },
  {
   "cell_type": "code",
   "execution_count": 1086,
   "metadata": {},
   "outputs": [
    {
     "name": "stdout",
     "output_type": "stream",
     "text": [
      " Worte to file: data/wikidata/DiGraph_noun_rg.gml\n"
     ]
    },
    {
     "data": {
      "text/plain": [
       "'done'"
      ]
     },
     "execution_count": 1086,
     "metadata": {},
     "output_type": "execute_result"
    }
   ],
   "source": [
    "DG.write_to_file()"
   ]
  },
  {
   "cell_type": "code",
   "execution_count": null,
   "metadata": {},
   "outputs": [],
   "source": []
  },
  {
   "cell_type": "code",
   "execution_count": null,
   "metadata": {},
   "outputs": [],
   "source": []
  },
  {
   "cell_type": "code",
   "execution_count": null,
   "metadata": {},
   "outputs": [],
   "source": []
  },
  {
   "cell_type": "code",
   "execution_count": null,
   "metadata": {},
   "outputs": [],
   "source": []
  },
  {
   "cell_type": "code",
   "execution_count": null,
   "metadata": {},
   "outputs": [],
   "source": []
  },
  {
   "cell_type": "code",
   "execution_count": 140,
   "metadata": {},
   "outputs": [],
   "source": []
  },
  {
   "cell_type": "code",
   "execution_count": null,
   "metadata": {},
   "outputs": [],
   "source": []
  },
  {
   "cell_type": "raw",
   "metadata": {},
   "source": []
  },
  {
   "cell_type": "code",
   "execution_count": null,
   "metadata": {},
   "outputs": [],
   "source": []
  },
  {
   "cell_type": "code",
   "execution_count": null,
   "metadata": {},
   "outputs": [],
   "source": []
  },
  {
   "cell_type": "code",
   "execution_count": 89,
   "metadata": {},
   "outputs": [],
   "source": []
  },
  {
   "cell_type": "code",
   "execution_count": null,
   "metadata": {},
   "outputs": [],
   "source": []
  },
  {
   "cell_type": "code",
   "execution_count": null,
   "metadata": {},
   "outputs": [],
   "source": []
  }
 ],
 "metadata": {
  "kernelspec": {
   "display_name": "Python 3",
   "language": "python",
   "name": "python3"
  },
  "language_info": {
   "codemirror_mode": {
    "name": "ipython",
    "version": 3
   },
   "file_extension": ".py",
   "mimetype": "text/x-python",
   "name": "python",
   "nbconvert_exporter": "python",
   "pygments_lexer": "ipython3",
   "version": "3.8.2"
  }
 },
 "nbformat": 4,
 "nbformat_minor": 4
}
