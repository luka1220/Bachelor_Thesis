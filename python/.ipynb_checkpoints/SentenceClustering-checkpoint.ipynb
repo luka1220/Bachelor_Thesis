{
 "cells": [
  {
   "cell_type": "code",
   "execution_count": 1,
   "metadata": {},
   "outputs": [],
   "source": [
    "import json\n",
    "with open('ac2-combined-ideas.json', 'r') as f:\n",
    "    ac1_dict = json.load(f)[\"@graph\"]\n",
    "    content_array = list(map(lambda idea: idea[\"content\"], ac1_dict));"
   ]
  },
  {
   "cell_type": "code",
   "execution_count": 4,
   "metadata": {},
   "outputs": [
    {
     "name": "stdout",
     "output_type": "stream",
     "text": [
      "------------------------------\n",
      "Clusters from a list of sentences\n",
      "------------------------------\n",
      "[(['technolog use detect', 'use detect movement', 'devic use detect', 'think use technolog'], 28.027864810573345, 16), (['area', 'object area', 'larg area', 'area airport', 'crowd area'], 23.93142782117569, 22), (['human', 'human detect'], 23.697990168585296, 20), (['certain', 'certain insect'], 23.697990168585296, 19), (['car', 'car detect', 'drive car', 'far car', 'close car'], 23.697990168585296, 16), (['recogn', 'recogn movement', 'alert recogn'], 23.110673602404944, 19), (['tech', 'tech use'], 22.52002902539391, 13), (['weather', 'sever weather', 'bad weather'], 22.28295573223168, 13), (['place', 'place movement', 'airport place'], 22.28295573223168, 15), (['store'], 22.020307287548132, 9), (['popul', 'popul fish', 'new popul'], 22.020307287548132, 11), (['game', 'creat game', 'video game', 'game movi', 'footbal game'], 22.020307287548132, 12), (['motion', 'motion detect'], 22.020307287548132, 12), (['see home'], 21.9337465557657, 15), (['detect movement'], 21.92111205136816, 15), (['help peopl'], 21.87711259096871, 11), (['activ'], 21.727581291188546, 13), (['map', 'explor map'], 21.727581291188546, 11), (['sensor', 'sensor home', 'radar sensor', 'heat sensor'], 21.727581291188546, 11), (['vehicl', 'sens vehicl'], 21.727581291188546, 12), (['determin', 'determin person'], 21.39907449125503, 12), (['better'], 21.39907449125503, 12), (['condit', 'condit detect', 'navig condit'], 21.39907449125503, 11), (['order'], 21.39907449125503, 11), (['exampl', 'exampl movement', 'app exampl'], 21.39907449125503, 11), (['night'], 21.39907449125503, 11), (['look'], 21.39907449125503, 11), (['chang'], 21.39907449125503, 11), (['work', 'work day', 'combat work'], 21.39907449125503, 10), (['track movement'], 21.13402776148117, 11), (['peopl anim'], 21.042199674309206, 9), (['hand', 'hand size'], 21.027431662891754, 11), (['set'], 21.027431662891754, 11), (['child'], 21.027431662891754, 8), (['visibl', 'low visibl'], 21.027431662891754, 11), (['sentences_with_no_cluster_membership'], 0.0, 162)]\n",
      "(419, 36)\n",
      "['technolog use detect', 'work'] the device could be used in a detective manner that is to say that it could be useful to predicting behavioral patterns of say criminal offenders, students, to perform research perhaps by tracking the physical lives of athletes or top achieving businessman or for companies to isolate expected behaviors of their employees and how they anticipate employees to move during a work day to establish fair and true standards \n",
      "\n",
      "['hand'] An application could be created for pet owners who have pets who have ran away from home. The application could be downloaded right onto a persons phone. the hand sized device could be put into a collar of a pet, or a chip like device under the skin. The system would be able to pin point a pets location to the direct coordinates.  \n",
      "\n",
      "['better', 'track movement'] could be used in aviation to track aircraft movements in flight to help better calculate efficient paths to travel in flight \n",
      "\n",
      "['night', 'chang'] This technology could be life saving for babies who are born prematurely. Their heart rate, breathing patterns, body temperature, oxygen levels and so much more could be accurately tested all day and night. Any alarming change could be reported by the artificial intelligence. All of the wires could be eliminated by this technology.   \n",
      "\n",
      "['human', 'help peopl'] I think one thing that i think is very interesting to do is if it can analyze movements i think  it would me amazing at optimizing speed and finding patterns to help push not only people to their fullest potential but also objects. Trying to find patterns that humans use at max speed and we can further that and our limits would probably be topped.  \n",
      "\n",
      "['motion'] The technology can be used to observe the motion of waves in an attempt to explain the rogue wave phenomenon. \n",
      "\n",
      "['recogn', 'peopl anim'] It can be used as a home security device.  It can recognize the people and animal movements that are usually inside the home and alert when there is an unfamiliar movement. \n",
      "\n"
     ]
    }
   ],
   "source": [
    "import os\n",
    "import numpy as np\n",
    "from pyrxnlp.api.cluster_sentences import ClusterSentences\n",
    "\n",
    "# replace this with your api key (see: http://www.rxnlp.com/api-key/)\n",
    "apikey = \"b4a6804d5bmsh33ba0806d8a2702p1bafe1jsn1f2d28d49795\"\n",
    "\n",
    "# Cluster from a list of sentences\n",
    "list_of_sentences = [\n",
    "    \"the sky is so high\",\n",
    "    \"the sky is blue\",\n",
    "    \"fly high into the sky.\",\n",
    "    \"the trees are really tall\",\n",
    "    \"I love the trees\",\n",
    "    \"trees make me happy\",\n",
    "    \"the sun is shining really bright\"]\n",
    "\n",
    "# initialize sentence clustering\n",
    "clustering = ClusterSentences (apikey)\n",
    "\n",
    "# generate clusters and print \n",
    "clusters = clustering.cluster_from_list (content_array)\n",
    "if clusters is not None:\n",
    "    print (\"------------------------------\")\n",
    "    print (\"Clusters from a list of sentences\")\n",
    "    print (\"------------------------------\")\n",
    "    print(list(map(lambda c: (c[\"clusterTopics\"][0], c[\"clusterScore\"], c[\"clusterSize\"]), clusters)))\n",
    "    #clustering.print_clusters (clusters)\n",
    "    sentences = np.zeros((len(content_array), len(clusters)))\n",
    "    print(sentences.shape)\n",
    "    for i, c in enumerate(clusters): \n",
    "        Index = np.array([*c[\"clusteredSentences\"].keys()]).astype(int)\n",
    "        sentences[Index,i] = 1\n",
    "\n",
    "for i in range(10):\n",
    "    inx = sentences[i,:].astype(bool)\n",
    "    if not inx[-1]: print([c[\"clusterTopics\"][0] for c in np.array(clusters)[inx]], content_array[i], \"\\n\")"
   ]
  },
  {
   "cell_type": "code",
   "execution_count": 73,
   "metadata": {},
   "outputs": [
    {
     "name": "stdout",
     "output_type": "stream",
     "text": [
      "['1' '1' 'drei'] (3,)\n"
     ]
    },
    {
     "data": {
      "text/plain": [
       "array([[0., 0., 0.],\n",
       "       [0., 0., 0.]])"
      ]
     },
     "execution_count": 73,
     "metadata": {},
     "output_type": "execute_result"
    }
   ],
   "source": [
    "a = np.array([\"srt\", \"zwei\", \"drei\"])\n",
    "a[[1,0]] = \"1\"\n",
    "print(a, a.shape)\n",
    "np.zeros((2,3))"
   ]
  },
  {
   "cell_type": "code",
   "execution_count": null,
   "metadata": {},
   "outputs": [],
   "source": [
    "\n"
   ]
  },
  {
   "cell_type": "code",
   "execution_count": null,
   "metadata": {},
   "outputs": [],
   "source": []
  }
 ],
 "metadata": {
  "kernelspec": {
   "display_name": "Python 3",
   "language": "python",
   "name": "python3"
  },
  "language_info": {
   "codemirror_mode": {
    "name": "ipython",
    "version": 3
   },
   "file_extension": ".py",
   "mimetype": "text/x-python",
   "name": "python",
   "nbconvert_exporter": "python",
   "pygments_lexer": "ipython3",
   "version": "3.7.0"
  }
 },
 "nbformat": 4,
 "nbformat_minor": 2
}
