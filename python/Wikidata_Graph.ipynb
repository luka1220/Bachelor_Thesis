{
 "cells": [
  {
   "cell_type": "code",
   "execution_count": null,
   "metadata": {},
   "outputs": [],
   "source": []
  },
  {
   "cell_type": "code",
   "execution_count": null,
   "metadata": {},
   "outputs": [],
   "source": []
  },
  {
   "cell_type": "code",
   "execution_count": 593,
   "metadata": {},
   "outputs": [],
   "source": [
    "import requests\n",
    "import time\n",
    "\n",
    "headers = {\"User-Agent\": \"Topic-Extraction/1.0 (https://github.com/luka1220/Bachelor_Thesis) requests/2.22.0\"}\n",
    "\n",
    "def query_paths_to_entity(item):\n",
    "    return \"\"\"\n",
    "    SELECT ?item ?itemLabel ?pre ?superItem ?superItemLabel\n",
    "    { \n",
    "      wd:\"\"\"+ item +\"\"\"  (wdt:P279 | wdt:P31 | wdt:P361 )* ?item.\n",
    "      ?item   ( wdt:P279 | wdt:P31 | wdt:P361) ?superItem.\n",
    "      SERVICE wikibase:label { bd:serviceParam wikibase:language \"en\". }\n",
    "    }\n",
    "    \"\"\"\n",
    "\n",
    "def select_query_service(item, pre):\n",
    "    return \"\"\"\n",
    "    PREFIX bd: <http://www.bigdata.com/rdf#>\n",
    "    PREFIX wd: <http://www.wikidata.org/entity/>\n",
    "    PREFIX wdt: <http://www.wikidata.org/prop/direct/>\n",
    "    PREFIX wikibase: <http://wikiba.se/ontology#>\n",
    "    \n",
    "    SELECT ?item ?itemLabel ?superItem ?superItemLabel\n",
    "    { \n",
    "      wd:\"\"\"+ item +\"\"\" wdt:\"\"\"+ pre +\"\"\"* ?item.\n",
    "      ?item wdt:\"\"\"+ pre +\"\"\" ?superItem.\n",
    "      SERVICE wikibase:label { bd:serviceParam wikibase:language \"en\". }\n",
    "    }\n",
    "    \"\"\"\n",
    "def select_query(item, pre):\n",
    "    return \"\"\"\n",
    "    PREFIX rdfs: <http://www.w3.org/2000/01/rdf-schema#>\n",
    "    PREFIX wd: <http://www.wikidata.org/entity/>\n",
    "    PREFIX wdt: <http://www.wikidata.org/prop/direct/>\n",
    "    \n",
    "    SELECT ?item ?label\n",
    "    WHERE \n",
    "    {\n",
    "        wd:\"\"\"+ item +\"\"\" wdt:\"\"\"+ pre +\"\"\" ?item.\n",
    "        ?item rdfs:label ?label.\n",
    "        FILTER (lang(?label) = \"en\")\n",
    "    }\n",
    "    \"\"\"\n",
    "def query_dbp_wiki(dbpediaConcept):\n",
    "    return \"\"\"\n",
    "    PREFIX rdfs: <http://www.w3.org/2000/01/rdf-schema#>\n",
    "    PREFIX dbpedia: <http://dbpedia.org/resource/>\n",
    "    PREFIX owl: <http://www.w3.org/2002/07/owl#>\n",
    "    SELECT ?obj\n",
    "    WHERE \n",
    "    { \n",
    "        <\"\"\"+ dbpediaConcept +\"\"\"> (owl:sameAs|^owl:sameAs) ?obj\n",
    "        FILTER(CONTAINS(str(?obj), \\\"http://www.wikidata.org\\\")) \n",
    "    }\n",
    "    \"\"\"\n",
    "\n",
    "def map_dbp_wikid(dbpediaConcept):\n",
    "    url = \"http://dbpedia.org/sparql\"\n",
    "    results = requests.get(url, headers=headers, params={'query': query_dbp_wiki(dbpediaConcept), 'format': 'json'})\n",
    "    if results.status_code is not 200:\n",
    "        raise Exception(results.status_code, results.test)\n",
    "    \n",
    "    results = results.json()[\"results\"][\"bindings\"]\n",
    "    if len(results)==0:\n",
    "        print(\"No results in dbpedia found for \" + dbpediaConcept)\n",
    "        raise Exception(\"No results in dbpedia found for \" + dbpediaConcept)\n",
    "    if len(results)>1:\n",
    "        print(\"Multiple results in dbpedia found for \" + dbpediaConcept)\n",
    "        raise Exception(\"Multiple results in dbpedia found for \" + dbpediaConcept)\n",
    "    return results[0][\"obj\"][\"value\"]\n",
    "\n",
    "def wikidata_sparql_request(query, counter=0):\n",
    "    url = 'https://query.wikidata.org/sparql'\n",
    "    res = requests.get(url, headers=headers, params={'query': query, 'format': 'json'})\n",
    "    if res.status_code is 200:\n",
    "        return res.json()[\"results\"][\"bindings\"]\n",
    "    elif counter < 5: \n",
    "        print(res.status_code, res.text,\"herders: \", res.headers)\n",
    "        if status_code is 429: time.sleep(15)\n",
    "        elif status_code is 403: time.sleep(20)\n",
    "        else: raise Exception(\"Status code is \" + str(res.status_code))\n",
    "        return wikidata_sparql_request(nodeId, predicate, counter+1)\n",
    "    else: raise Exception(\"Status code is \" + str(res.status_code))\n",
    "\n",
    "#def get_all_subclasses(nodeId): return wikidata_sparql_request(nodeId,\"P279\")\n",
    "#def get_all_instances_of(nodeId): return wikidata_sparql_request(nodeId, \"P31\")\n",
    "\n",
    "def convert_dbp_wikid_ids(dbp_concepts):\n",
    "    return [(map_dbp_wikid(c).split(\"/\")[-1], c.split(\"/\")[-1]) for c in dbp_concepts]"
   ]
  },
  {
   "cell_type": "code",
   "execution_count": null,
   "metadata": {},
   "outputs": [],
   "source": [
    "\n"
   ]
  },
  {
   "cell_type": "code",
   "execution_count": 628,
   "metadata": {},
   "outputs": [],
   "source": [
    "import pydot\n",
    "import sys\n",
    "\n",
    "class Node:\n",
    "    def __init__(self,node_id, value = \"NULL\"):\n",
    "        self.id = node_id\n",
    "        self.value = value\n",
    "        self.neighbours = []\n",
    "        self.status = 0\n",
    "    def getId(self):\n",
    "        return self.id\n",
    "    def add_neighbour(self, nkey):\n",
    "        self.neighbours += [nkey]\n",
    "    def get_neighbous(self):\n",
    "        return self.neighbours\n",
    "    def get_status(self):\n",
    "        return self.status\n",
    "    def set_status(self, s):\n",
    "        self.status = s\n",
    "\n",
    "# Directed Knoleage Graph\n",
    "class K_Graph:\n",
    "    def __init__(self, nodes):\n",
    "        self.graph = dict([(k, Node(k,v)) for (k,v) in nodes])\n",
    "        self.concepts = nodes\n",
    "        self.is_build = False\n",
    "    def get_graph(self):\n",
    "        return self.graph\n",
    "    def build_edge(self, key1, v1, key2, v2):\n",
    "        if key1 not in self.graph:\n",
    "            self.graph[key1] = Node(key1, v1)\n",
    "        if key2 not in self.graph:\n",
    "            self.graph[key2] = Node(key2, v2)\n",
    "        if key2 not in self.graph[key1].neighbours:\n",
    "            self.graph[key1].add_neighbour(key2)\n",
    "    def build_graph(self):\n",
    "        if self.is_build: return \"Graph is allready build, len: \"+ str(len(self.graph))\n",
    "        \n",
    "        for i, (key,v) in enumerate(self.concepts):\n",
    "            text = \"\\rPercent: {0}%\".format( int(i/len(self.concepts) *100))\n",
    "            sys.stdout.write(text)\n",
    "            sys.stdout.flush()\n",
    "            for s in wikidata_sparql_request(query_paths_to_entity(key)):\n",
    "                self.build_edge(s[\"item\"][\"value\"].split(\"/\")[-1], \n",
    "                                s[\"itemLabel\"][\"value\"],\n",
    "                                s[\"superItem\"][\"value\"].split(\"/\")[-1],\n",
    "                                s[\"superItemLabel\"][\"value\"])\n",
    "        self.is_build = True\n",
    "        return len(self.graph)\n",
    "    def get_graphic_G(self):\n",
    "        G = pydot.Dot(graph_type=\"digraph\")\n",
    "        node = pydot.Node(\"Q35120\", label=\"Entity\", style=\"filled\", fillcolor=\"green\")\n",
    "        G.add_node(node)\n",
    "        for (k,v) in self.concepts:\n",
    "            G.add_node(pydot.Node(k, label=v, style=\"filled\", fillcolor=\"yellow\"))\n",
    "        \n",
    "        #init Nodes\n",
    "        for n in self.graph.values():\n",
    "            if G.get_node(n.id) == []:\n",
    "                v = pydot.Node(n.id, label=n.value)\n",
    "                G.add_node(v)\n",
    "            for neighbour in n.neighbours:\n",
    "                e = pydot.Edge(n.id, neighbour)\n",
    "                G.add_edge(e)\n",
    "        return G\n",
    "            \n",
    "            \n",
    "def build_up_G(n, g_dict, Graph):\n",
    "    if g_dict[n].status is 0:\n",
    "        g_dict[n].status = 1\n",
    "    else: return 0\n",
    "    for neigh in g_dict[n].neighbours:\n",
    "        e = pydot.Edge(n, neigh)\n",
    "        Graph.add_edge(e)\n",
    "        build_up_G(neigh, g_dict, Graph)\n",
    "    return 1\n"
   ]
  },
  {
   "cell_type": "code",
   "execution_count": 4,
   "metadata": {},
   "outputs": [
    {
     "name": "stdout",
     "output_type": "stream",
     "text": [
      "199\n"
     ]
    }
   ],
   "source": [
    "import json\n",
    "import numpy as np\n",
    "with open('ac1-export-complete.json', 'r') as f:\n",
    "    ac1_dict = json.load(f)[\"@graph\"]\n",
    "    ac1_dict = list(filter(lambda i: \"concept\" in i and type(i[\"concept\"]) is list, ac1_dict))\n",
    "    content = list(map(lambda idea: idea[\"content\"], ac1_dict));\n",
    "    concept_per_idea = list(map(lambda idea: [c[\"linkedConcept\"] for c in idea[\"concept\"]], ac1_dict));\n",
    "    concepts = np.array(list(set([y for x in concept_per_idea for y in x])))\n",
    "    print(len(concepts))"
   ]
  },
  {
   "cell_type": "code",
   "execution_count": 401,
   "metadata": {},
   "outputs": [],
   "source": [
    "wiki_concepts = convert_dbp_wikid_ids(concepts)"
   ]
  },
  {
   "cell_type": "code",
   "execution_count": null,
   "metadata": {},
   "outputs": [],
   "source": []
  },
  {
   "cell_type": "code",
   "execution_count": null,
   "metadata": {},
   "outputs": [],
   "source": []
  },
  {
   "cell_type": "code",
   "execution_count": null,
   "metadata": {},
   "outputs": [],
   "source": []
  },
  {
   "cell_type": "code",
   "execution_count": 435,
   "metadata": {},
   "outputs": [],
   "source": []
  },
  {
   "cell_type": "code",
   "execution_count": 586,
   "metadata": {},
   "outputs": [
    {
     "name": "stdout",
     "output_type": "stream",
     "text": [
      "Percent: 99%"
     ]
    },
    {
     "data": {
      "text/plain": [
       "1133"
      ]
     },
     "execution_count": 586,
     "metadata": {},
     "output_type": "execute_result"
    }
   ],
   "source": [
    "graph = K_Graph(wiki_concepts)\n",
    "graph.build_graph()\n"
   ]
  },
  {
   "cell_type": "code",
   "execution_count": null,
   "metadata": {},
   "outputs": [],
   "source": []
  },
  {
   "cell_type": "code",
   "execution_count": null,
   "metadata": {},
   "outputs": [],
   "source": []
  },
  {
   "cell_type": "code",
   "execution_count": null,
   "metadata": {},
   "outputs": [],
   "source": []
  },
  {
   "cell_type": "code",
   "execution_count": 587,
   "metadata": {},
   "outputs": [],
   "source": [
    "G = graph.get_graphic_G()"
   ]
  },
  {
   "cell_type": "code",
   "execution_count": null,
   "metadata": {},
   "outputs": [],
   "source": [
    "\n"
   ]
  },
  {
   "cell_type": "code",
   "execution_count": 518,
   "metadata": {},
   "outputs": [],
   "source": [
    "from IPython.display import Image, display\n",
    "\n",
    "im = Image(G.create_png())\n",
    "display(im)"
   ]
  },
  {
   "cell_type": "code",
   "execution_count": 588,
   "metadata": {},
   "outputs": [
    {
     "data": {
      "text/plain": [
       "True"
      ]
     },
     "execution_count": 588,
     "metadata": {},
     "output_type": "execute_result"
    }
   ],
   "source": [
    "G.write_png('knowledge_graph_big.png')"
   ]
  },
  {
   "cell_type": "code",
   "execution_count": 632,
   "metadata": {},
   "outputs": [
    {
     "name": "stdout",
     "output_type": "stream",
     "text": [
      "\r",
      "Percent: 0%"
     ]
    },
    {
     "data": {
      "text/plain": [
       "528"
      ]
     },
     "execution_count": 632,
     "metadata": {},
     "output_type": "execute_result"
    }
   ],
   "source": [
    "g2 = K_Graph(wiki_concepts[2:3])\n",
    "g2.build_graph()"
   ]
  },
  {
   "cell_type": "code",
   "execution_count": 633,
   "metadata": {},
   "outputs": [
    {
     "name": "stdout",
     "output_type": "stream",
     "text": [
      "1185 528\n"
     ]
    }
   ],
   "source": [
    "G2 = g2.get_graphic_G()\n",
    "print(len(G2.get_edges()), len(G2.get_nodes()))"
   ]
  },
  {
   "cell_type": "code",
   "execution_count": 634,
   "metadata": {},
   "outputs": [
    {
     "data": {
      "text/plain": [
       "True"
      ]
     },
     "execution_count": 634,
     "metadata": {},
     "output_type": "execute_result"
    }
   ],
   "source": [
    "G2.write_png('test.png')\n",
    "#im2 = Image(G2.create_png())\n",
    "#display(im2)"
   ]
  },
  {
   "cell_type": "code",
   "execution_count": 624,
   "metadata": {},
   "outputs": [
    {
     "data": {
      "text/plain": [
       "('Q9893', 'I')"
      ]
     },
     "execution_count": 624,
     "metadata": {},
     "output_type": "execute_result"
    }
   ],
   "source": [
    "wiki_concepts[4]"
   ]
  },
  {
   "cell_type": "code",
   "execution_count": null,
   "metadata": {},
   "outputs": [],
   "source": []
  }
 ],
 "metadata": {
  "kernelspec": {
   "display_name": "Python 3",
   "language": "python",
   "name": "python3"
  },
  "language_info": {
   "codemirror_mode": {
    "name": "ipython",
    "version": 3
   },
   "file_extension": ".py",
   "mimetype": "text/x-python",
   "name": "python",
   "nbconvert_exporter": "python",
   "pygments_lexer": "ipython3",
   "version": "3.7.0"
  }
 },
 "nbformat": 4,
 "nbformat_minor": 2
}
